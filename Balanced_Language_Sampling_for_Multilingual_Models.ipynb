{
  "cells": [
    {
      "cell_type": "markdown",
      "metadata": {
        "id": "wQ6uclZZiPu7"
      },
      "source": [
        "# Balanced Language Sampling for Multilingual Models"
      ]
    },
    {
      "cell_type": "markdown",
      "metadata": {
        "id": "_0KrREeiiU79"
      },
      "source": [
        "This Jupyter-notebook provides the visualization of the experiments in the term paper «Balanced Language Sampling for Multilingual Models»."
      ]
    },
    {
      "cell_type": "markdown",
      "metadata": {
        "id": "1WE8YEZNi-o7"
      },
      "source": [
        "## Requirements"
      ]
    },
    {
      "cell_type": "markdown",
      "metadata": {
        "id": "r6cpnkp8pHV2"
      },
      "source": [
        "In this section we download and import all needed modules and libraries."
      ]
    },
    {
      "cell_type": "code",
      "execution_count": null,
      "metadata": {
        "id": "Mvqtwghq9nAn"
      },
      "outputs": [],
      "source": [
        "%pip install -U kaleido"
      ]
    },
    {
      "cell_type": "code",
      "execution_count": null,
      "metadata": {
        "id": "3gTwlqNq2L_s"
      },
      "outputs": [],
      "source": [
        "%pip install pyconll"
      ]
    },
    {
      "cell_type": "code",
      "execution_count": null,
      "metadata": {
        "id": "zuL_0lyA94os"
      },
      "outputs": [],
      "source": [
        "import kaleido\n",
        "import os\n",
        "import plotly.express as px\n",
        "import plotly.graph_objects as go\n",
        "import plotly.io as pio\n",
        "from plotly.subplots import make_subplots\n",
        "import pandas as pd\n",
        "import numpy as np\n",
        "import os\n",
        "import pyconll\n",
        "from scipy.stats import mannwhitneyu"
      ]
    },
    {
      "cell_type": "markdown",
      "metadata": {
        "id": "GMfi5MWXjG1L"
      },
      "source": [
        "## Metrics"
      ]
    },
    {
      "cell_type": "markdown",
      "metadata": {
        "id": "ewa2eoyJpFJA"
      },
      "source": [
        "In this section we provide functions that are used as metrics for the future visualization."
      ]
    },
    {
      "cell_type": "code",
      "execution_count": null,
      "metadata": {
        "id": "ZNUF5iss8p5f"
      },
      "outputs": [],
      "source": [
        "def roleCounter(path: str, targetRoles: list[str]) -> dict[str, int]:\n",
        "    \"\"\"\n",
        "    Counts the balance of targetRoles in provided data.\n",
        "\n",
        "    Arguments:\n",
        "        path : str\n",
        "            The path to the file where results of one experiment are stored.\n",
        "        targetRoles : list[str]\n",
        "            The list of target arguments, that function is going to count in data.\n",
        "\n",
        "    Return:\n",
        "        dict[str, int]:\n",
        "            The dictionary with counted statistics.\n",
        "    \"\"\"\n",
        "    stats = {}\n",
        "\n",
        "    with open(path, \"r\") as results:\n",
        "        results = results.readlines()\n",
        "\n",
        "    for line in results[1:]:\n",
        "        role = line.split(\",\")[1]\n",
        "        if role in targetRoles:\n",
        "            if role not in stats:\n",
        "                stats[role] = 0\n",
        "            stats[role] += 1\n",
        "\n",
        "    return stats\n"
      ]
    },
    {
      "cell_type": "code",
      "execution_count": null,
      "metadata": {
        "id": "o-cR9LaMi3Zu"
      },
      "outputs": [],
      "source": [
        "def layerAccuracy(path: str) -> dict[int, float]:\n",
        "    \"\"\"\n",
        "    Calculates the accuracy for A-O classification per layer.\n",
        "\n",
        "    Arguments:\n",
        "        path : str\n",
        "            The path to the file where results of one experiment are stored.\n",
        "\n",
        "    Return:\n",
        "        dict[int, float]:\n",
        "            The dictionary with calculated accuracy per layer.\n",
        "    \"\"\"\n",
        "    layers = {i: [0, 0] for i in range(13)}\n",
        "\n",
        "    with open(path, \"r\") as results:\n",
        "        results = results.readlines()\n",
        "\n",
        "    for line in results[1:]:\n",
        "        role, predicted_role, layer = (\n",
        "            line.split(\",\")[1],\n",
        "            line.split(\",\")[-5],\n",
        "            line.split(\",\")[-3]\n",
        "        )\n",
        "        if role in [\"A\", \"O\"]:\n",
        "            if role == predicted_role:\n",
        "                layers[int(layer)][0] += 1\n",
        "            layers[int(layer)][1] += 1\n",
        "\n",
        "    for layer in layers:\n",
        "        layers[layer] = layers[layer][0] / layers[layer][1]\n",
        "\n",
        "    return layers\n"
      ]
    },
    {
      "cell_type": "code",
      "execution_count": null,
      "metadata": {
        "id": "4MONGnQlgFV1"
      },
      "outputs": [],
      "source": [
        "def roleClassProportion(path: str, target_role: str) -> dict[str, float]:\n",
        "    \"\"\"\n",
        "    Calculates the proporion of target role classified as A or O per layer.\n",
        "\n",
        "    Arguments:\n",
        "        path : str\n",
        "            The path to the file where results of one experiment are stored.\n",
        "        target_role : str\n",
        "            The role for which proportion is calculated.\n",
        "\n",
        "    Return:\n",
        "        dict[str, float]:\n",
        "            The dictionary with calculated proportion of target argument classified as A or O per layer.\n",
        "    \"\"\"\n",
        "    layers = {i: {\"A\": 0, \"O\": 0} for i in range(13)}\n",
        "\n",
        "    with open(path, \"r\") as results:\n",
        "        results = results.readlines()\n",
        "\n",
        "    for line in results[1:]:\n",
        "        role, predicted_role, layer = (\n",
        "            line.split(\",\")[1],\n",
        "            line.split(\",\")[-5],\n",
        "            line.split(\",\")[-3]\n",
        "        )\n",
        "        if role == target_role:\n",
        "            layers[int(layer)][predicted_role] += 1\n",
        "\n",
        "    proportion = {\"A\": [], \"O\": []}\n",
        "    for layer in layers:\n",
        "        overall = sum(layers[layer].values())\n",
        "        if overall:\n",
        "            proportion[\"A\"].append(layers[layer][\"A\"] / overall)\n",
        "            proportion[\"O\"].append(layers[layer][\"O\"] / overall)\n",
        "        else:\n",
        "            proportion[\"A\"].append(0)\n",
        "            proportion[\"O\"].append(0)\n",
        "\n",
        "    return proportion\n"
      ]
    },
    {
      "cell_type": "code",
      "execution_count": null,
      "metadata": {
        "id": "EjN07Mrw6Yx4"
      },
      "outputs": [],
      "source": [
        "def roleClassProportionAnimacy(\n",
        "    path: str, target_role: str\n",
        ") -> dict[str, list[str | int]]:\n",
        "    \"\"\"\n",
        "    Calculates the proporion of target role classified as A or O per layer\n",
        "    with animacy distinction.\n",
        "\n",
        "    Arguments:\n",
        "        path : str\n",
        "            The path to the file where results of one experiment are stored.\n",
        "        target_role : str\n",
        "            The role for which proportion is calculated.\n",
        "\n",
        "    Return:\n",
        "       dict[str, list[str | int]]:\n",
        "            The dictionary with calculated proportion of target argument classified as A or O per layer with animacy distinction.\n",
        "    \"\"\"\n",
        "\n",
        "    animacyStats = {\n",
        "        \"role\": [\"A\"] * 3 + [\"O\"] * 3,\n",
        "        \"animacy\": [\"Animate\", \"Inanimate\", \"None\"] * 2,\n",
        "        \"cnt\": [0] * 6,\n",
        "    }\n",
        "\n",
        "    with open(path, \"r\") as results:\n",
        "        results = results.readlines()\n",
        "\n",
        "    for line in results[1:]:\n",
        "        role, animacy, predicted_role, layer = (\n",
        "            line.split(\",\")[1],\n",
        "            line.split(\",\")[3],\n",
        "            line.split(\",\")[-5],\n",
        "            line.split(\",\")[-3]\n",
        "        )\n",
        "\n",
        "        if role == target_role and predicted_role == \"A\":\n",
        "            if animacy == \"Anim\":\n",
        "                animacyStats[\"cnt\"][0] += 1\n",
        "            elif animacy == \"Inan\":\n",
        "                animacyStats[\"cnt\"][1] += 1\n",
        "            else:\n",
        "                animacyStats[\"cnt\"][2] += 1\n",
        "\n",
        "        if role == target_role and predicted_role == \"O\":\n",
        "            if animacy == \"Anim\":\n",
        "                animacyStats[\"cnt\"][3] += 1\n",
        "            elif animacy == \"Inan\":\n",
        "                animacyStats[\"cnt\"][4] += 1\n",
        "            else:\n",
        "                animacyStats[\"cnt\"][5] += 1\n",
        "\n",
        "    return animacyStats\n"
      ]
    },
    {
      "cell_type": "markdown",
      "metadata": {
        "id": "uuGjklQ3_b4N"
      },
      "source": [
        "## Loading Data"
      ]
    },
    {
      "cell_type": "markdown",
      "metadata": {
        "id": "YHxfaFDLq3s3"
      },
      "source": [
        "In this section we download data from the repository."
      ]
    },
    {
      "cell_type": "code",
      "execution_count": null,
      "metadata": {
        "id": "RaeJJ6-jrY9X"
      },
      "outputs": [],
      "source": [
        "if not os.path.exists(\"BalancedLanguageSampling\"):\n",
        "    !git clone https://github.com/veronikatsareva/BalancedLanguageSampling"
      ]
    },
    {
      "cell_type": "code",
      "execution_count": null,
      "metadata": {
        "id": "2kJ6O8GGrH8L"
      },
      "outputs": [],
      "source": [
        "if not os.path.exists(\"Figures\"):\n",
        "    os.makedirs(\"Figures\")"
      ]
    },
    {
      "cell_type": "markdown",
      "metadata": {
        "id": "ycrIlbbWiW6O"
      },
      "source": [
        "## Experiment №1"
      ]
    },
    {
      "cell_type": "markdown",
      "metadata": {
        "id": "q5KbhTezidn5"
      },
      "source": [
        "In this section we provide visualization of the results that we got during the experiment №1. At first, we deal with results of the original sample and then with the results of the balanced sample.\n",
        "\n",
        "For more details, see Section 3.3 of the term paper."
      ]
    },
    {
      "cell_type": "markdown",
      "metadata": {
        "id": "q3be9WYPneMx"
      },
      "source": [
        "### Original Sample"
      ]
    },
    {
      "cell_type": "markdown",
      "metadata": {
        "id": "Nqim0wAi2Jxf"
      },
      "source": [
        "The dictionary where the key is the language and the value is the path to the results for this language."
      ]
    },
    {
      "cell_type": "code",
      "execution_count": null,
      "metadata": {
        "id": "t7e7zk0-A7XB"
      },
      "outputs": [],
      "source": [
        "originalDir = {\n",
        "    \"Basque\": \"/content/BalancedLanguageSampling/results/original sample/Basque/eu_bdt-ud_eu_bdt-ud-test.conllu_0\",\n",
        "    \"Chinese\": \"/content/BalancedLanguageSampling/results/original sample/Chinese/zh_gsd-ud_zh_gsd-ud-test.conllu_0\",\n",
        "    \"Croatian\": \"/content/BalancedLanguageSampling/results/original sample/Croatian/hr_set-ud_hr_set-ud-test.conllu_0\",\n",
        "    \"Czech\": \"/content/BalancedLanguageSampling/results/original sample/Czech/cs_pdt-ud_cs_pdt-ud-test.conllu_0\",\n",
        "    \"English\": \"/content/BalancedLanguageSampling/results/original sample/English/en_ewt-ud_en_ewt-ud-test.conllu_0\",\n",
        "    \"Estonian\": \"/content/BalancedLanguageSampling/results/original sample/Estonian/et_edt-ud_et_edt-ud-test.conllu_0\",\n",
        "    \"Finnish\": \"/content/BalancedLanguageSampling/results/original sample/Finnish/fi_tdt-ud_fi_tdt-ud-test.conllu_0\",\n",
        "    \"French\": \"/content/BalancedLanguageSampling/results/original sample/French/fr_gsd-ud_fr_gsd-ud-test.conllu_0\",\n",
        "    \"German\": \"/content/BalancedLanguageSampling/results/original sample/German/de_gsd-ud_de_gsd-ud-test.conllu_0\",\n",
        "    \"Hebrew\": \"/content/BalancedLanguageSampling/results/original sample/Hebrew/he_htb-ud_he_htb-ud-test.conllu_0\",\n",
        "    \"Hindi\": \"/content/BalancedLanguageSampling/results/original sample/Hindi/hi_hdtb-ud_hi_hdtb-ud-test.conllu_0\",\n",
        "    \"Indonesian\": \"/content/BalancedLanguageSampling/results/original sample/Indonesian/id_gsd-ud_id_gsd-ud-test.conllu_0\",\n",
        "    \"Latin\": \"/content/BalancedLanguageSampling/results/original sample/Latin/la_ittb-ud_la_ittb-ud-test.conllu_0\",\n",
        "    \"Norwegian\": \"/content/BalancedLanguageSampling/results/original sample/Norwegian/no_bokmaal-ud_no_bokmaal-ud-test.conllu_0\",\n",
        "    \"Persian\": \"/content/BalancedLanguageSampling/results/original sample/Persian/fa_seraji-ud_fa_seraji-ud-test.conllu_0\",\n",
        "    \"Polish\": \"/content/BalancedLanguageSampling/results/original sample/Polish/pl_pdb-ud_pl_pdb-ud-test.conllu_0\",\n",
        "    \"Russian\": \"/content/BalancedLanguageSampling/results/original sample/Russian/ru_syntagrus-ud_ru_syntagrus-ud-test.conllu_0\",\n",
        "    \"Serbian\": \"/content/BalancedLanguageSampling/results/original sample/Serbian/sr_set-ud_sr_set-ud-test.conllu_0\",\n",
        "    \"Slovak\": \"/content/BalancedLanguageSampling/results/original sample/Slovak/sk_snk-ud_sk_snk-ud-test.conllu_0\",\n",
        "    \"Slovenian\": \"/content/BalancedLanguageSampling/results/original sample/Slovenian/sl_ssj-ud_sl_ssj-ud-test.conllu_0\",\n",
        "    \"Spanish\": \"/content/BalancedLanguageSampling/results/original sample/Spanish/es_ancora-ud_es_ancora-ud-test.conllu_0\",\n",
        "    \"Urdu\": \"/content/BalancedLanguageSampling/results/original sample/Urdu/ur_udtb-ud_ur_udtb-ud-test.conllu_0\"\n",
        "}"
      ]
    },
    {
      "cell_type": "markdown",
      "metadata": {
        "id": "uVIAaCpQ2Ura"
      },
      "source": [
        "Here we create a dataframe where the stats for each core argument of the clause (S, O and A) and language is counted."
      ]
    },
    {
      "cell_type": "code",
      "execution_count": null,
      "metadata": {
        "id": "xkPs6jMH8jmY"
      },
      "outputs": [],
      "source": [
        "roleStatsOrig = {key : {} for key in originalDir.keys()}\n",
        "\n",
        "for language in originalDir:\n",
        "    roleStatsOrig[language] = roleCounter(originalDir[language], [\"S\", \"A\", \"O\"])\n",
        "\n",
        "roleStatsOrig_df = pd.DataFrame(roleStatsOrig)\n",
        "roleStatsOrig_df"
      ]
    },
    {
      "cell_type": "markdown",
      "metadata": {
        "id": "seJTmNh93pQW"
      },
      "source": [
        "Here we calculate the accuracy in A-O classification per layer for each language."
      ]
    },
    {
      "cell_type": "code",
      "execution_count": null,
      "metadata": {
        "id": "Ymdj-42tDR-a"
      },
      "outputs": [],
      "source": [
        "accuracyOrig = {}\n",
        "\n",
        "for language in originalDir:\n",
        "    accuracyOrig[language] = list(layerAccuracy(originalDir[language]).values())\n",
        "\n",
        "accuracyOrig_df = pd.DataFrame.from_dict(accuracyOrig)"
      ]
    },
    {
      "cell_type": "markdown",
      "metadata": {
        "id": "tKBErf2X4KG-"
      },
      "source": [
        "And visualize the results."
      ]
    },
    {
      "cell_type": "code",
      "execution_count": null,
      "metadata": {
        "id": "u7LzMV-8sLsu"
      },
      "outputs": [],
      "source": [
        "fig = make_subplots(rows=11, cols=2, subplot_titles=(list(originalDir.keys())))\n",
        "\n",
        "cnt = 0\n",
        "\n",
        "for language in originalDir:\n",
        "    fig.add_trace(\n",
        "        go.Scatter(\n",
        "            x=[i for i in range(13)], y=accuracyOrig_df[language], showlegend=False\n",
        "        ),\n",
        "        row=cnt // 2 + 1,\n",
        "        col=cnt % 2 % 11 + 1\n",
        "    )\n",
        "\n",
        "    cnt += 1\n",
        "\n",
        "fig.update_layout(\n",
        "    height=2000,\n",
        "    width=800,\n",
        "    font_family=\"Brill\",\n",
        "    font_color=\"black\",\n",
        "    title_font_family=\"Brill\",\n",
        "    legend_title_text=\"Language\",\n",
        "    template=\"ggplot2\",\n",
        "    title_text=\"Accuracy for A-O classification per layer and language (Original Sample)\"\n",
        ")\n",
        "\n",
        "fig.update_xaxes(title_text=\"Layers\")\n",
        "fig.update_yaxes(title_text=\"Accuracy\")\n",
        "\n",
        "# pio.write_image(fig, \"Figures/Accuracy for A-O classification per layer and language (Original Sample).png\",scale=6, width=800, height=2000)\n",
        "\n",
        "fig.show()\n"
      ]
    },
    {
      "cell_type": "code",
      "execution_count": null,
      "metadata": {
        "id": "W5UiUMe7FTqI"
      },
      "outputs": [],
      "source": [
        "genusColours = {\n",
        "    \"Basque\": \"rgb(160,227,183)\",\n",
        "    \"Chinese\": \"rgb(30,92,74)\",\n",
        "    \"Croatian\": \"rgb(26,167,238)\",\n",
        "    \"Czech\": \"rgb(26,167,238)\",\n",
        "    \"English\": \"rgb(102,155,144)\",\n",
        "    \"Estonian\": \"rgb(85,241,123)\",\n",
        "    \"Finnish\": \"rgb(85,241,123)\",\n",
        "    \"French\": \"rgb(253,4,143)\",\n",
        "    \"German\": \"rgb(102,155,144)\",\n",
        "    \"Hebrew\": \"rgb(161,78,124)\",\n",
        "    \"Hindi\": \"rgb(45,81,146)\",\n",
        "    \"Indonesian\": \"rgb(242,131,227)\",\n",
        "    \"Latin\": \"rgb(81,62,180)\",\n",
        "    \"Norwegian\": \"rgb(102,155,144)\",\n",
        "    \"Persian\": \"rgb(188,175,249)\",\n",
        "    \"Polish\": \"rgb(26,167,238)\",\n",
        "    \"Russian\": \"rgb(26,167,238)\",\n",
        "    \"Serbian\": \"rgb(26,167,238)\",\n",
        "    \"Slovak\": \"rgb(26,167,238)\",\n",
        "    \"Slovenian\": \"rgb(26,167,238)\",\n",
        "    \"Spanish\": \"rgb(253,4,143)\",\n",
        "    \"Urdu\": \"rgb(45,81,146)\"\n",
        "}\n",
        "\n",
        "\n",
        "fig = px.scatter(accuracyOrig_df, template=\"ggplot2\", color_discrete_map=genusColours)\n",
        "\n",
        "fig.update_xaxes(title_text=\"Layers\")\n",
        "fig.update_yaxes(title_text=\"Accuracy\")\n",
        "\n",
        "fig.update_layout(\n",
        "    font_family=\"Brill\",\n",
        "    font_color=\"black\",\n",
        "    title_font_family=\"Brill\",\n",
        "    legend_title_text='Language',\n",
        "    title = \"Accuracy for A-O classification per layer (Original Sample, overall)\"\n",
        ")\n",
        "\n",
        "# pio.write_image(fig, \"Figures/Accuracy for A-O classification per layer (Original Sample, overall).png\",scale=6, width=1000, height=700)\n",
        "\n",
        "fig.show()"
      ]
    },
    {
      "cell_type": "markdown",
      "metadata": {
        "id": "x57Mc0BYV0FE"
      },
      "source": [
        "The highest accuracy for each language and layer on which it was achieved."
      ]
    },
    {
      "cell_type": "code",
      "execution_count": null,
      "metadata": {
        "id": "RAlS-qRjWQw0"
      },
      "outputs": [],
      "source": [
        "highestAccuracyOrig = {\"Value\": [], \"Layer\" : []}\n",
        "\n",
        "for language in accuracyOrig_df.columns:\n",
        "    highestAccuracyOrig[\"Value\"].append(accuracyOrig_df[language].max())\n",
        "    highestAccuracyOrig[\"Layer\"].append(int(accuracyOrig_df[language].argmax()))\n",
        "\n",
        "highestAccuracyOrigdf = pd.DataFrame(highestAccuracyOrig, index=accuracyOrig_df.columns)\n",
        "highestAccuracyOrigdf"
      ]
    },
    {
      "cell_type": "markdown",
      "metadata": {
        "id": "QBecOPSXXgVn"
      },
      "source": [
        "The mean accuracy for each language."
      ]
    },
    {
      "cell_type": "code",
      "execution_count": null,
      "metadata": {
        "id": "ZZ5zGRP_XkT7"
      },
      "outputs": [],
      "source": [
        "accuracyOrig_df.mean()"
      ]
    },
    {
      "cell_type": "markdown",
      "metadata": {
        "id": "gopFu7eolevj"
      },
      "source": [
        "Here we calculate what was more often predicted for S argument."
      ]
    },
    {
      "cell_type": "code",
      "execution_count": null,
      "metadata": {
        "id": "4klS1NstjwyR"
      },
      "outputs": [],
      "source": [
        "fig = make_subplots(rows=11, cols=2, subplot_titles=(list(originalDir.keys())))\n",
        "\n",
        "cnt = 0\n",
        "\n",
        "for language in originalDir:\n",
        "    lang_data = pd.DataFrame.from_dict(roleClassProportion(originalDir[language], \"S\"))\n",
        "\n",
        "    fig.add_trace(\n",
        "        go.Scatter(\n",
        "            name=\"A\",\n",
        "            x=[i for i in range(13)],\n",
        "            y=lang_data[\"A\"],\n",
        "            marker=dict(color=\"green\"),\n",
        "            legendgroup=\"A\",\n",
        "            showlegend=False,\n",
        "        ),\n",
        "        row=cnt // 2 + 1,\n",
        "        col=cnt % 2 % 11 + 1\n",
        "    )\n",
        "\n",
        "    fig.add_trace(\n",
        "        go.Scatter(\n",
        "            name=\"O\",\n",
        "            x=[i for i in range(13)],\n",
        "            y=lang_data[\"O\"],\n",
        "            marker=dict(color=\"goldenrod\"),\n",
        "            legendgroup=\"O\",\n",
        "            showlegend=False,\n",
        "        ),\n",
        "        row=cnt // 2 + 1,\n",
        "        col=cnt % 2 % 11 + 1\n",
        "    )\n",
        "\n",
        "    cnt += 1\n",
        "\n",
        "fig.update_layout(\n",
        "    height=2500,\n",
        "    width=1000,\n",
        "    font_family=\"Brill\",\n",
        "    font_color=\"black\",\n",
        "    title_font_family=\"Brill\",\n",
        "    legend_title_text=\"Role\",\n",
        "    template=\"ggplot2\",\n",
        "    title_text=\"The proportion of S argument classified as A and O (Original sample)\"\n",
        ")\n",
        "fig.update_xaxes(title_text=\"Layers\")\n",
        "fig.update_yaxes(title_text=\"Proportion\")\n",
        "\n",
        "# pio.write_image(fig, 'Figures/The proportion of S argument classified as A and O (Original sample).png',scale=6, width=1000, height=2500)\n",
        "\n",
        "fig.show()\n"
      ]
    },
    {
      "cell_type": "markdown",
      "metadata": {
        "id": "MZkOhBmA9B_C"
      },
      "source": [
        "Here we calculate the amount of S argument predicted as A or O with marking the animacy of S."
      ]
    },
    {
      "cell_type": "code",
      "execution_count": null,
      "metadata": {
        "id": "KLRA8_II9sL4"
      },
      "outputs": [],
      "source": [
        "fig = make_subplots(rows=11, cols=2, subplot_titles=(list(originalDir.keys())))\n",
        "\n",
        "cnt = 0\n",
        "\n",
        "for language in originalDir:\n",
        "    lang_data = pd.DataFrame(roleClassProportionAnimacy(originalDir[language], \"S\"))\n",
        "\n",
        "    colors = {\"A\": \"green\", \"O\": \"goldenrod\"}\n",
        "\n",
        "    for y in lang_data.role.unique():\n",
        "        dfy = lang_data[lang_data.role == y]\n",
        "\n",
        "        fig.add_trace(\n",
        "            go.Bar(\n",
        "                name=str(y),\n",
        "                x=dfy.animacy,\n",
        "                y=dfy.cnt,\n",
        "                marker=dict(color=colors[str(y)]),\n",
        "                legendgroup=str(y),\n",
        "                showlegend=False,\n",
        "            ),\n",
        "            row=cnt // 2 + 1,\n",
        "            col=cnt % 2 % 11 + 1\n",
        "        )\n",
        "\n",
        "    cnt += 1\n",
        "\n",
        "fig.update_layout(\n",
        "    height=2000,\n",
        "    width=800,\n",
        "    font_family=\"Brill\",\n",
        "    font_color=\"black\",\n",
        "    title_font_family=\"Brill\",\n",
        "    legend_title_text=\"Role\",\n",
        "    template=\"ggplot2\",\n",
        "    title_text=\"The amount of S argument classified as A and O with animacy distinction (Original sample)\"\n",
        ")\n",
        "\n",
        "# pio.write_image(fig, 'Figures/The amount of S argument classified as A and O with animacy distinction (Original sample).png',scale=6, width=800, height=2000)\n",
        "\n",
        "fig.show()\n"
      ]
    },
    {
      "cell_type": "markdown",
      "metadata": {
        "id": "sXuP6BVpF2yG"
      },
      "source": [
        "Here we calculate what was more often predicted for S-passive."
      ]
    },
    {
      "cell_type": "code",
      "execution_count": null,
      "metadata": {
        "id": "Xat5xVVFF3Lm"
      },
      "outputs": [],
      "source": [
        "fig = make_subplots(rows=11, cols=2, subplot_titles=(list(originalDir.keys())))\n",
        "\n",
        "cnt = 0\n",
        "\n",
        "for language in originalDir:\n",
        "    lang_data = pd.DataFrame.from_dict(roleClassProportion(originalDir[language], \"S-passive\"))\n",
        "\n",
        "    fig.add_trace(\n",
        "        go.Scatter(\n",
        "            name=\"A\",\n",
        "            x=[i for i in range(13)],\n",
        "            y=lang_data[\"A\"],\n",
        "            marker=dict(color=\"green\"),\n",
        "            legendgroup=\"A\",\n",
        "            showlegend=False,\n",
        "        ),\n",
        "        row=cnt // 2 + 1,\n",
        "        col=cnt % 2 % 11 + 1\n",
        "    )\n",
        "\n",
        "    fig.add_trace(\n",
        "        go.Scatter(\n",
        "            name=\"O\",\n",
        "            x=[i for i in range(13)],\n",
        "            y=lang_data[\"O\"],\n",
        "            marker=dict(color=\"goldenrod\"),\n",
        "            legendgroup=\"O\",\n",
        "            showlegend=False,\n",
        "        ),\n",
        "        row=cnt // 2 + 1,\n",
        "        col=cnt % 2 % 11 + 1\n",
        "    )\n",
        "\n",
        "    cnt += 1\n",
        "\n",
        "fig.update_layout(\n",
        "    height=2000,\n",
        "    width=800,\n",
        "    font_family=\"Brill\",\n",
        "    font_color=\"black\",\n",
        "    title_font_family=\"Brill\",\n",
        "    legend_title_text=\"Role\",\n",
        "    template=\"ggplot2\",\n",
        "    title_text=\"The proportion of S-passive classified as A and O (Original sample)\"\n",
        ")\n",
        "fig.update_xaxes(title_text=\"Layers\")\n",
        "fig.update_yaxes(title_text=\"Proportion\")\n",
        "\n",
        "# pio.write_image(fig, \"Figures/The proportion of S-passive classified as A and O (Original sample).png\",scale=6, width=800, height=2000)\n",
        "\n",
        "fig.show()\n"
      ]
    },
    {
      "cell_type": "code",
      "execution_count": null,
      "metadata": {
        "id": "LUBn43rSy_ze"
      },
      "outputs": [],
      "source": [
        "fig = make_subplots(rows=6, cols=2, subplot_titles=[\"Chinese\", \"Czech\", \"English\", \"French\", \"German\", \"Hindi\", \"Indonesian\", \"Latin\", \"Persian\", \"Russian\", \"Slovak\", \"Spanish\"])\n",
        "\n",
        "cnt = 0\n",
        "\n",
        "for language in [\"Chinese\", \"Czech\", \"English\", \"French\", \"German\", \"Hindi\", \"Indonesian\", \"Latin\", \"Persian\", \"Russian\", \"Slovak\", \"Spanish\"]:\n",
        "    lang_data = pd.DataFrame.from_dict(roleClassProportion(originalDir[language], \"S-passive\"))\n",
        "\n",
        "    fig.add_trace(\n",
        "        go.Scatter(\n",
        "            name=\"A\",\n",
        "            x=[i for i in range(13)],\n",
        "            y=lang_data[\"A\"],\n",
        "            marker=dict(color=\"green\"),\n",
        "            legendgroup=\"A\",\n",
        "            showlegend=False,\n",
        "        ),\n",
        "        row=cnt // 2 + 1,\n",
        "        col=cnt % 2 % 6 + 1\n",
        "    )\n",
        "\n",
        "    fig.add_trace(\n",
        "        go.Scatter(\n",
        "            name=\"O\",\n",
        "            x=[i for i in range(13)],\n",
        "            y=lang_data[\"O\"],\n",
        "            marker=dict(color=\"goldenrod\"),\n",
        "            legendgroup=\"O\",\n",
        "            showlegend=False,\n",
        "        ),\n",
        "        row=cnt // 2 + 1,\n",
        "        col=cnt % 2 % 6 + 1\n",
        "    )\n",
        "\n",
        "    cnt += 1\n",
        "\n",
        "fig.update_layout(\n",
        "    height=1200,\n",
        "    width=800,\n",
        "    font_family=\"Brill\",\n",
        "    font_color=\"black\",\n",
        "    title_font_family=\"Brill\",\n",
        "    legend_title_text=\"Role\",\n",
        "    template=\"ggplot2\",\n",
        "    title_text=\"The proportion of S-passive classified as A and O (Original sample)\"\n",
        ")\n",
        "fig.update_xaxes(title_text=\"Layers\")\n",
        "fig.update_yaxes(title_text=\"Proportion\")\n",
        "\n",
        "# pio.write_image(fig, \"Figures/The proportion of S-passive classified as A and O (Original sample).png\",scale=6, width=800, height=1200)\n",
        "\n",
        "fig.show()\n"
      ]
    },
    {
      "cell_type": "markdown",
      "metadata": {
        "id": "16WB9JeVildg"
      },
      "source": [
        "### Balanced Sample"
      ]
    },
    {
      "cell_type": "markdown",
      "metadata": {
        "id": "5tgwDwuIASNG"
      },
      "source": [
        "The dictionary where the key is the language and the value is the path to the results for this language."
      ]
    },
    {
      "cell_type": "code",
      "execution_count": null,
      "metadata": {
        "id": "_ZwBGyVKJhob"
      },
      "outputs": [],
      "source": [
        "balancedDir = {\n",
        "    \"Afrikaans\": \"/content/BalancedLanguageSampling/results/balanced sample/Afrikaans/af_afribooms-ud_af_afribooms-ud-test.conllu_0\",\n",
        "    \"Arabic\": \"/content/BalancedLanguageSampling/results/balanced sample/Arabic/ar_nyuad-ud_ar_nyuad-ud-test.conllu_0\",\n",
        "    \"Armenian\": \"/content/BalancedLanguageSampling/results/balanced sample/Armenian/hy_armtdp-ud_hy_armtdp-ud-test.conllu_0\",\n",
        "    \"Basque\": \"/content/BalancedLanguageSampling/results/balanced sample/Basque/eu_bdt-ud_eu_bdt-ud-test.conllu_0\",\n",
        "    \"Chinese\": \"/content/BalancedLanguageSampling/results/balanced sample/Chinese/zh_gsd-ud_zh_gsd-ud-test.conllu_0\",\n",
        "    \"Finnish\": \"/content/BalancedLanguageSampling/results/balanced sample/Finnish/fi_tdt-ud_fi_tdt-ud-test.conllu_0\",\n",
        "    \"Georgian\": \"/content/BalancedLanguageSampling/results/balanced sample/Georgian/ka_glc-ud_ka_glc-ud-test.conllu_0\",\n",
        "    \"Greek\": \"/content/BalancedLanguageSampling/results/balanced sample/Greek/el_gdt-ud_el_gdt-ud-test.conllu_0\",\n",
        "    \"Hindi\": \"/content/BalancedLanguageSampling/results/balanced sample/Hindi/hi_hdtb-ud_hi_hdtb-ud-test.conllu_0\",\n",
        "    \"Hungarian\": \"/content/BalancedLanguageSampling/results/balanced sample/Hungarian/hu_szeged-ud_hu_szeged-ud-test.conllu_0\",\n",
        "    \"Indonesian\": \"/content/BalancedLanguageSampling/results/balanced sample/Indonesian/id_gsd-ud_id_gsd-ud-test.conllu_0\",\n",
        "    \"Japanese\": \"/content/BalancedLanguageSampling/results/balanced sample/Japanese/ja_gsd-ud_ja_gsd-ud-test.conllu_0\",\n",
        "    \"Korean\": \"/content/BalancedLanguageSampling/results/balanced sample/Korean/ko_kaist-ud_ko_kaist-ud-test.conllu_0\",\n",
        "    \"Latin\": \"/content/BalancedLanguageSampling/results/balanced sample/Latin/la_ittb-ud_la_ittb-ud-test.conllu_0\",\n",
        "    \"Persian\": \"/content/BalancedLanguageSampling/results/balanced sample/Persian/fa_perdt-ud_fa_perdt-ud-test.conllu_0\",\n",
        "    \"Portuguese\": \"/content/BalancedLanguageSampling/results/balanced sample/Portuguese/pt_cintil-ud_pt_cintil-ud-test.conllu_0\",\n",
        "    \"Russian\": \"/content/BalancedLanguageSampling/results/balanced sample/Russian/ru_syntagrus-ud_ru_syntagrus-ud-test.conllu_0\",\n",
        "    \"Turkish\": \"/content/BalancedLanguageSampling/results/balanced sample/Turkish/tr_penn-ud_tr_penn-ud-test.conllu_0\",\n",
        "    \"Vietnamese\": \"/content/BalancedLanguageSampling/results/balanced sample/Vietnamese/vi_vtb-ud_vi_vtb-ud-test.conllu_0\"\n",
        "}\n"
      ]
    },
    {
      "cell_type": "markdown",
      "metadata": {
        "id": "yG2M2gKCAVZz"
      },
      "source": [
        "Here we create a dataframe where the stats for each argument and language is counted."
      ]
    },
    {
      "cell_type": "code",
      "execution_count": null,
      "metadata": {
        "id": "X8ulJGUfAVZz"
      },
      "outputs": [],
      "source": [
        "roleStatsBalanced = {key : {} for key in balancedDir.keys()}\n",
        "\n",
        "for language in balancedDir:\n",
        "    roleStatsBalanced[language] = roleCounter(balancedDir[language], [\"S\", \"A\", \"O\"])\n",
        "\n",
        "roleStatsBalanced_df = pd.DataFrame(roleStatsBalanced)\n",
        "roleStatsBalanced_df"
      ]
    },
    {
      "cell_type": "markdown",
      "metadata": {
        "id": "JasPAgrWAoj4"
      },
      "source": [
        "Here we calculate the accuracy in A-O classification per layer for each language."
      ]
    },
    {
      "cell_type": "code",
      "execution_count": null,
      "metadata": {
        "id": "usz724gVAoj5"
      },
      "outputs": [],
      "source": [
        "accuracyBalanced = {}\n",
        "\n",
        "for language in balancedDir:\n",
        "    accuracyBalanced[language] = list(layerAccuracy(balancedDir[language]).values())\n",
        "\n",
        "accuracyBalanced_df = pd.DataFrame.from_dict(accuracyBalanced)"
      ]
    },
    {
      "cell_type": "markdown",
      "metadata": {
        "id": "7bRyi4rOAoj5"
      },
      "source": [
        "And visualize the results."
      ]
    },
    {
      "cell_type": "code",
      "execution_count": null,
      "metadata": {
        "id": "LuA6N53ducy6"
      },
      "outputs": [],
      "source": [
        "fig = make_subplots(rows=10, cols=2, subplot_titles=(list(balancedDir.keys())))\n",
        "\n",
        "cnt = 0\n",
        "\n",
        "for language in balancedDir:\n",
        "    fig.add_trace(\n",
        "        go.Scatter(\n",
        "            x=[i for i in range(13)], y=accuracyBalanced_df[language], showlegend=False\n",
        "        ),\n",
        "        row=cnt // 2 + 1,\n",
        "        col=cnt % 2 % 10 + 1\n",
        "    )\n",
        "\n",
        "    cnt += 1\n",
        "\n",
        "fig.update_layout(\n",
        "    height=2000,\n",
        "    width=800,\n",
        "    font_family=\"Brill\",\n",
        "    font_color=\"black\",\n",
        "    title_font_family=\"Brill\",\n",
        "    legend_title_text=\"Language\",\n",
        "    template=\"ggplot2\",\n",
        "    title_text=\"Accuracy for A-O classification per layer and language (Balanced Sample)\"\n",
        ")\n",
        "fig.update_xaxes(title_text=\"Layers\")\n",
        "fig.update_yaxes(title_text=\"Accuracy\")\n",
        "\n",
        "# pio.write_image(fig, \"Figures/Accuracy for A-O classification per layer and language (Balanced Sample).png\",scale=6, width=800, height=2000)\n",
        "\n",
        "fig.show()\n"
      ]
    },
    {
      "cell_type": "code",
      "execution_count": null,
      "metadata": {
        "id": "YzeC1WdVd1K5"
      },
      "outputs": [],
      "source": [
        "fig = px.scatter(accuracyBalanced_df, template=\"ggplot2\")\n",
        "\n",
        "fig.update_xaxes(title_text=\"Layers\")\n",
        "fig.update_yaxes(title_text=\"Accuracy\")\n",
        "\n",
        "fig.update_layout(\n",
        "    font_family=\"Brill\",\n",
        "    font_color=\"black\",\n",
        "    title_font_family=\"Brill\",\n",
        "    legend_title_text='Language',\n",
        "    title = \"Accuracy for A-O classification per layer (Balanced Sample, overall)\"\n",
        ")\n",
        "\n",
        "# pio.write_image(fig, 'Figures/Accuracy for A-O classification per layer (Balanced Sample, overall)',scale=6, width=1000, height=700)\n",
        "\n",
        "fig.show()"
      ]
    },
    {
      "cell_type": "markdown",
      "metadata": {
        "id": "cNtzRPymXvPn"
      },
      "source": [
        "The highest accuracy for each language and layer on which it was achieved."
      ]
    },
    {
      "cell_type": "code",
      "execution_count": null,
      "metadata": {
        "id": "BoUEZ3NvXvPo"
      },
      "outputs": [],
      "source": [
        "highestAccuracyBalanced = {\"Value\": [], \"Layer\" : []}\n",
        "\n",
        "for language in accuracyBalanced_df.columns:\n",
        "    highestAccuracyBalanced[\"Value\"].append(accuracyBalanced_df[language].max())\n",
        "    highestAccuracyBalanced[\"Layer\"].append(int(accuracyBalanced_df[language].argmax()))\n",
        "\n",
        "highestAccuracyBalanceddf = pd.DataFrame(highestAccuracyBalanced, index=accuracyBalanced_df.columns)\n",
        "highestAccuracyBalanceddf"
      ]
    },
    {
      "cell_type": "markdown",
      "metadata": {
        "id": "E2FJYEy9XvPp"
      },
      "source": [
        "The mean accuracy for each language."
      ]
    },
    {
      "cell_type": "code",
      "execution_count": null,
      "metadata": {
        "id": "rWfUoH7_XvPp"
      },
      "outputs": [],
      "source": [
        "accuracyBalanced_df.mean()"
      ]
    },
    {
      "cell_type": "markdown",
      "metadata": {
        "id": "miPOGMcEBqRo"
      },
      "source": [
        "Here we calculate what was more often predicted as S argument."
      ]
    },
    {
      "cell_type": "code",
      "execution_count": null,
      "metadata": {
        "id": "e2DTj_3lBqRp"
      },
      "outputs": [],
      "source": [
        "fig = make_subplots(rows=10, cols=2, subplot_titles=(list(balancedDir.keys())))\n",
        "\n",
        "cnt = 0\n",
        "\n",
        "for language in balancedDir:\n",
        "    lang_data = pd.DataFrame.from_dict(roleClassProportion(balancedDir[language], \"S\"))\n",
        "\n",
        "    fig.add_trace(\n",
        "        go.Scatter(\n",
        "            name=\"A\",\n",
        "            x=[i for i in range(13)],\n",
        "            y=lang_data[\"A\"],\n",
        "            marker=dict(color=\"green\"),\n",
        "            legendgroup=\"A\",\n",
        "            showlegend=False,\n",
        "        ),\n",
        "        row=cnt // 2 + 1,\n",
        "        col=cnt % 2 % 10 + 1\n",
        "    )\n",
        "\n",
        "    fig.add_trace(\n",
        "        go.Scatter(\n",
        "            name=\"O\",\n",
        "            x=[i for i in range(13)],\n",
        "            y=lang_data[\"O\"],\n",
        "            marker=dict(color=\"goldenrod\"),\n",
        "            legendgroup=\"O\",\n",
        "            showlegend=False,\n",
        "        ),\n",
        "        row=cnt // 2 + 1,\n",
        "        col=cnt % 2 % 10 + 1\n",
        "    )\n",
        "\n",
        "    cnt += 1\n",
        "\n",
        "fig.update_layout(\n",
        "    height=2000,\n",
        "    width=800,\n",
        "    font_family=\"Brill\",\n",
        "    font_color=\"black\",\n",
        "    title_font_family=\"Brill\",\n",
        "    legend_title_text=\"Role\",\n",
        "    template=\"ggplot2\",\n",
        "    title_text=\"The proportion of S argument classified as A and O (Balanced sample)\"\n",
        ")\n",
        "\n",
        "fig.update_xaxes(title_text=\"Layers\")\n",
        "fig.update_yaxes(title_text=\"Proportion\")\n",
        "\n",
        "# pio.write_image(fig, 'Figures/The proportion of S argument classified as A and O (Balanced sample).png',scale=6, width=800, height=2000)\n",
        "\n",
        "fig.show()\n"
      ]
    },
    {
      "cell_type": "markdown",
      "metadata": {
        "id": "igz-sIPMB-R4"
      },
      "source": [
        "Here we calculate the amount of S argument predicted as A or O with marking the animacy of S."
      ]
    },
    {
      "cell_type": "code",
      "execution_count": null,
      "metadata": {
        "id": "jpZZ5NcDB-R4"
      },
      "outputs": [],
      "source": [
        "fig = make_subplots(rows=10, cols=2, subplot_titles=(list(balancedDir.keys())))\n",
        "\n",
        "cnt = 0\n",
        "\n",
        "for language in balancedDir:\n",
        "    lang_data = pd.DataFrame(roleClassProportionAnimacy(balancedDir[language], \"S\"))\n",
        "\n",
        "    colors = {\"A\": \"green\", \"O\": \"goldenrod\"}\n",
        "\n",
        "    for y in lang_data.role.unique():\n",
        "        dfy = lang_data[lang_data.role == y]\n",
        "\n",
        "        fig.add_trace(\n",
        "            go.Bar(\n",
        "                name=str(y),\n",
        "                x=dfy.animacy,\n",
        "                y=dfy.cnt,\n",
        "                marker=dict(color=colors[str(y)]),\n",
        "                legendgroup=str(y),\n",
        "                showlegend=False,\n",
        "            ),\n",
        "            row=cnt // 2 + 1,\n",
        "            col=cnt % 2 % 10 + 1\n",
        "        )\n",
        "\n",
        "    cnt += 1\n",
        "\n",
        "fig.update_layout(\n",
        "    height=2000,\n",
        "    width=800,\n",
        "    font_family=\"Brill\",\n",
        "    font_color=\"black\",\n",
        "    title_font_family=\"Brill\",\n",
        "    legend_title_text=\"Role\",\n",
        "    template=\"ggplot2\",\n",
        "    title_text=\"The amount of S argument classified as A and O with animacy distinction (Balanced sample)\"\n",
        ")\n",
        "\n",
        "# pio.write_image(fig, 'Figures/The amount of S argument classified as A and O with animacy distinction (Balanced sample).png',scale=6, width=800, height=2000)\n",
        "\n",
        "fig.show()\n"
      ]
    },
    {
      "cell_type": "markdown",
      "metadata": {
        "id": "KE7OMWRxJ7BP"
      },
      "source": [
        "Here we calculate what was more often predicted for S-passive."
      ]
    },
    {
      "cell_type": "code",
      "execution_count": null,
      "metadata": {
        "id": "CZ9Iii4cJ7BP"
      },
      "outputs": [],
      "source": [
        "fig = make_subplots(rows=10, cols=2, subplot_titles=(list(balancedDir.keys())))\n",
        "\n",
        "cnt = 0\n",
        "\n",
        "for language in balancedDir:\n",
        "    lang_data = pd.DataFrame.from_dict(roleClassProportion(balancedDir[language], \"S-passive\"))\n",
        "\n",
        "    fig.add_trace(\n",
        "        go.Scatter(\n",
        "            name=\"A\",\n",
        "            x=[i for i in range(13)],\n",
        "            y=lang_data[\"A\"],\n",
        "            marker=dict(color=\"green\"),\n",
        "            legendgroup=\"A\",\n",
        "            showlegend=False,\n",
        "        ),\n",
        "        row=cnt // 2 + 1,\n",
        "        col=cnt % 2 % 10 + 1\n",
        "    )\n",
        "\n",
        "    fig.add_trace(\n",
        "        go.Scatter(\n",
        "            name=\"O\",\n",
        "            x=[i for i in range(13)],\n",
        "            y=lang_data[\"O\"],\n",
        "            marker=dict(color=\"goldenrod\"),\n",
        "            legendgroup=\"O\",\n",
        "            showlegend=False,\n",
        "        ),\n",
        "        row=cnt // 2 + 1,\n",
        "        col=cnt % 2 % 10 + 1\n",
        "    )\n",
        "\n",
        "    cnt += 1\n",
        "\n",
        "fig.update_layout(\n",
        "    height=2000,\n",
        "    width=800,\n",
        "    font_family=\"Brill\",\n",
        "    font_color=\"black\",\n",
        "    title_font_family=\"Brill\",\n",
        "    legend_title_text=\"Role\",\n",
        "    template=\"ggplot2\",\n",
        "    title_text=\"The proportion of S-passive classified as A and O (Balanced sample)\"\n",
        ")\n",
        "fig.update_xaxes(title_text=\"Layers\")\n",
        "fig.update_yaxes(title_text=\"Proportion\")\n",
        "\n",
        "# pio.write_image(fig, 'Figures/The proportion of S-passive classified as A and O (Balanced sample).png',scale=6, width=800, height=2000)\n",
        "\n",
        "fig.show()\n"
      ]
    },
    {
      "cell_type": "markdown",
      "metadata": {
        "id": "qXNCpOQVzkJm"
      },
      "source": [
        "### Comparing two samples"
      ]
    },
    {
      "cell_type": "markdown",
      "metadata": {
        "id": "Gj665ePL265i"
      },
      "source": [
        "In this section we compare the mean accuracy for each layer in two samples."
      ]
    },
    {
      "cell_type": "code",
      "execution_count": null,
      "metadata": {
        "id": "mChNrpdS4rDr"
      },
      "outputs": [],
      "source": [
        "meanAccuracyComp = pd.concat([accuracyOrig_df.mean(axis=1), accuracyBalanced_df.mean(axis=1)], axis=1).rename(columns={0: \"Original sample\", 1: \"Balanced sample\"})"
      ]
    },
    {
      "cell_type": "code",
      "execution_count": null,
      "metadata": {
        "id": "GXs0-df9Mkfv"
      },
      "outputs": [],
      "source": [
        "fig = go.Figure()\n",
        "fig.add_trace(go.Box(y=meanAccuracyComp[\"Original sample\"], name='Original sample',\n",
        "                marker_color = 'orangered'))\n",
        "fig.add_trace(go.Box(y=meanAccuracyComp[\"Balanced sample\"], name = 'Balanced sample',\n",
        "                marker_color = 'olive'))\n",
        "\n",
        "fig.update_yaxes(title_text=\"Accuracy\")\n",
        "\n",
        "fig.update_layout(\n",
        "    template=\"ggplot2\",\n",
        "    font_family=\"Brill\",\n",
        "    font_color=\"black\",\n",
        "    title_font_family=\"Brill\",\n",
        "    legend_title_text=\"Language\",\n",
        "    showlegend=False,\n",
        "    title=\"Boxplot for mean accuracy per layer (Original vs. Balanced Sample)\"\n",
        ")\n",
        "\n",
        "# pio.write_image(fig, 'Figures/Boxplot for mean accuracy per layer (Original vs. Balanced Sample).png',scale=6, width=1000, height=500)\n",
        "\n",
        "fig.show()"
      ]
    },
    {
      "cell_type": "code",
      "execution_count": null,
      "metadata": {
        "id": "XawR-Fh50biM"
      },
      "outputs": [],
      "source": [
        "fig = px.scatter(\n",
        "    meanAccuracyComp,\n",
        "    template=\"ggplot2\"\n",
        ")\n",
        "\n",
        "fig.update_xaxes(title_text=\"Layers\")\n",
        "fig.update_yaxes(title_text=\"Mean accuracy\")\n",
        "\n",
        "fig.update_layout(\n",
        "    font_family=\"Brill\",\n",
        "    font_color=\"black\",\n",
        "    title_font_family=\"Brill\",\n",
        "    legend_title_text=\"Language\",\n",
        "    title=\"Mean accuracy per layer (Original vs. Balanced Sample)\"\n",
        ")\n",
        "\n",
        "# pio.write_image(fig, 'Figures/Mean accuracy per layer (Original vs. Balanced Sample).png',scale=6, width=1000, height=500)\n",
        "\n",
        "fig.show()\n"
      ]
    },
    {
      "cell_type": "markdown",
      "metadata": {
        "id": "X5v_QSrvjW4V"
      },
      "source": [
        "Here we use the Mann-Whitney U-test to examine whether the distribution of the accuracy in the original sample differs from the balanced sample."
      ]
    },
    {
      "cell_type": "code",
      "execution_count": null,
      "metadata": {
        "id": "xHEAJs3wffYf"
      },
      "outputs": [],
      "source": [
        "mannwhitneyu(meanAccuracyComp[\"Original sample\"], meanAccuracyComp[\"Balanced sample\"])"
      ]
    },
    {
      "cell_type": "markdown",
      "metadata": {
        "id": "LmwbStPIi6tJ"
      },
      "source": [
        "## Experiment №2"
      ]
    },
    {
      "cell_type": "markdown",
      "metadata": {
        "id": "T6PAEjQZsOqK"
      },
      "source": [
        "In this section we provide visualization of the results that we got during the experiment №2. At first we deal with results of the original sample and then with the results of the balanced sample.\n",
        "\n",
        "For more details, see Section 3.4 of the term paper."
      ]
    },
    {
      "cell_type": "markdown",
      "metadata": {
        "id": "f5LQwZ3hnLSe"
      },
      "source": [
        "### Original Sample"
      ]
    },
    {
      "cell_type": "markdown",
      "metadata": {
        "id": "esge9hfdCem8"
      },
      "source": [
        "The dictionary where the value is the name of the testing language and the key is the path to the results for this pair with Basque (train language)."
      ]
    },
    {
      "cell_type": "code",
      "execution_count": null,
      "metadata": {
        "id": "_FBpWJJVebCA"
      },
      "outputs": [],
      "source": [
        "basqueDataOrig = {\n",
        "    \"/content/BalancedLanguageSampling/results/original sample/Persian/eu_bdt-ud_fa_seraji-ud-train.conllu_0\": \"Persian\",\n",
        "    \"/content/BalancedLanguageSampling/results/original sample/Slovak/eu_bdt-ud_sk_snk-ud-train.conllu_0\": \"Slovak\",\n",
        "    \"/content/BalancedLanguageSampling/results/original sample/German/eu_bdt-ud_de_gsd-ud-train.conllu_0\": \"German\",\n",
        "    \"/content/BalancedLanguageSampling/results/original sample/Russian/eu_bdt-ud_ru_syntagrus-ud-train.conllu_0\": \"Russian\",\n",
        "    \"/content/BalancedLanguageSampling/results/original sample/Basque/eu_bdt-ud_eu_bdt-ud-test.conllu_0\": \"Basque\",\n",
        "    \"/content/BalancedLanguageSampling/results/original sample/Chinese/eu_bdt-ud_zh_gsd-ud-train.conllu_0\": \"Chinese\",\n",
        "    \"/content/BalancedLanguageSampling/results/original sample/French/eu_bdt-ud_fr_gsd-ud-train.conllu_0\": \"French\",\n",
        "    \"/content/BalancedLanguageSampling/results/original sample/English/eu_bdt-ud_en_ewt-ud-train.conllu_0\": \"English\",\n",
        "    \"/content/BalancedLanguageSampling/results/original sample/Polish/eu_bdt-ud_pl_pdb-ud-train.conllu_0\": \"Polish\",\n",
        "    \"/content/BalancedLanguageSampling/results/original sample/Hindi/eu_bdt-ud_hi_hdtb-ud-train.conllu_0\": \"Hindi\",\n",
        "    \"/content/BalancedLanguageSampling/results/original sample/Latin/eu_bdt-ud_la_ittb-ud-train.conllu_0\": \"Latin\",\n",
        "    \"/content/BalancedLanguageSampling/results/original sample/Croatian/eu_bdt-ud_hr_set-ud-train.conllu_0\": \"Croatian\",\n",
        "    \"/content/BalancedLanguageSampling/results/original sample/Hebrew/eu_bdt-ud_he_htb-ud-train.conllu_0\": \"Hebrew\",\n",
        "    \"/content/BalancedLanguageSampling/results/original sample/Indonesian/eu_bdt-ud_id_gsd-ud-train.conllu_0\": \"Indonesian\",\n",
        "    \"/content/BalancedLanguageSampling/results/original sample/Urdu/eu_bdt-ud_ur_udtb-ud-train.conllu_0\": \"Urdu\",\n",
        "    \"/content/BalancedLanguageSampling/results/original sample/Czech/eu_bdt-ud_cs_pdt-ud-train.conllu_0\": \"Czech\",\n",
        "    \"/content/BalancedLanguageSampling/results/original sample/Slovenian/eu_bdt-ud_sl_ssj-ud-train.conllu_0\": \"Slovenian\",\n",
        "    \"/content/BalancedLanguageSampling/results/original sample/Spanish/eu_bdt-ud_es_ancora-ud-train.conllu_0\": \"Spanish\",\n",
        "    \"/content/BalancedLanguageSampling/results/original sample/Serbian/eu_bdt-ud_sr_set-ud-train.conllu_0\": \"Serbian\",\n",
        "    \"/content/BalancedLanguageSampling/results/original sample/Norwegian/eu_bdt-ud_no_bokmaal-ud-train.conllu_0\": \"Norwegian\",\n",
        "    \"/content/BalancedLanguageSampling/results/original sample/Finnish/eu_bdt-ud_fi_tdt-ud-train.conllu_0\": \"Finnish\",\n",
        "    \"/content/BalancedLanguageSampling/results/original sample/Estonian/eu_bdt-ud_et_edt-ud-train.conllu_0\": \"Estonian\",\n",
        "    \"/content/BalancedLanguageSampling/results/original sample/Japanese/eu_bdt-ud_ja_gsd-ud-train.conllu_0\": \"Japanese\"\n",
        "}\n"
      ]
    },
    {
      "cell_type": "markdown",
      "metadata": {
        "id": "fBf7CRRZEs4x"
      },
      "source": [
        "Here we calculate the accuracy in A-O classification per layer for each pair."
      ]
    },
    {
      "cell_type": "code",
      "execution_count": null,
      "metadata": {
        "id": "p7pPayeLEs4x"
      },
      "outputs": [],
      "source": [
        "accuracyBasqOrig = {}\n",
        "\n",
        "for language in basqueDataOrig:\n",
        "    accuracyBasqOrig[basqueDataOrig[language]] = list(layerAccuracy(language).values())\n",
        "\n",
        "accuracyBasqOrig_df = pd.DataFrame.from_dict(accuracyBasqOrig)"
      ]
    },
    {
      "cell_type": "markdown",
      "metadata": {
        "id": "fLy4VG-IEs4x"
      },
      "source": [
        "And visualize the results."
      ]
    },
    {
      "cell_type": "code",
      "execution_count": null,
      "metadata": {
        "id": "NsUcY5wGEs4y"
      },
      "outputs": [],
      "source": [
        "fig = make_subplots(rows=12, cols=2, subplot_titles=(list(basqueDataOrig.values())))\n",
        "\n",
        "cnt = 0\n",
        "\n",
        "for language in basqueDataOrig:\n",
        "    fig.add_trace(\n",
        "        go.Scatter(\n",
        "            x=[i for i in range(13)], y=accuracyBasqOrig_df[basqueDataOrig[language]], showlegend=False\n",
        "        ),\n",
        "        row=cnt // 2 + 1,\n",
        "        col=cnt % 2 % 12 + 1\n",
        "    )\n",
        "\n",
        "    cnt += 1\n",
        "\n",
        "fig.update_layout(\n",
        "    height=2000,\n",
        "    width=800,\n",
        "    font_family=\"Brill\",\n",
        "    font_color=\"black\",\n",
        "    title_font_family=\"Brill\",\n",
        "    template=\"ggplot2\",\n",
        "    title_text=\"Accuracy for A-O classification per layer (trained on Basque, Original sample)\"\n",
        ")\n",
        "\n",
        "fig.update_xaxes(title_text=\"Layers\")\n",
        "fig.update_yaxes(title_text=\"Accuracy\")\n",
        "\n",
        "# pio.write_image(fig, 'Figures/Accuracy for A-O classification per layer (trained on Basque, Original sample).png',scale=6, width=800, height=2000)\n",
        "\n",
        "fig.show()\n"
      ]
    },
    {
      "cell_type": "code",
      "execution_count": null,
      "metadata": {
        "id": "deou65hHEs4y"
      },
      "outputs": [],
      "source": [
        "genusColours = {\n",
        "    \"Basque\": \"rgb(160,227,183)\",\n",
        "    \"Chinese\": \"rgb(30,92,74)\",\n",
        "    \"Croatian\": \"rgb(26,167,238)\",\n",
        "    \"Czech\": \"rgb(26,167,238)\",\n",
        "    \"English\": \"rgb(102,155,144)\",\n",
        "    \"Estonian\": \"rgb(85,241,123)\",\n",
        "    \"Finnish\": \"rgb(85,241,123)\",\n",
        "    \"French\": \"rgb(253,4,143)\",\n",
        "    \"German\": \"rgb(102,155,144)\",\n",
        "    \"Hebrew\": \"rgb(161,78,124)\",\n",
        "    \"Hindi\": \"rgb(45,81,146)\",\n",
        "    \"Indonesian\": \"rgb(242,131,227)\",\n",
        "    \"Latin\": \"rgb(81,62,180)\",\n",
        "    \"Norwegian\": \"rgb(102,155,144)\",\n",
        "    \"Persian\": \"rgb(188,175,249)\",\n",
        "    \"Polish\": \"rgb(26,167,238)\",\n",
        "    \"Russian\": \"rgb(26,167,238)\",\n",
        "    \"Serbian\": \"rgb(26,167,238)\",\n",
        "    \"Slovak\": \"rgb(26,167,238)\",\n",
        "    \"Slovenian\": \"rgb(26,167,238)\",\n",
        "    \"Spanish\": \"rgb(253,4,143)\",\n",
        "    \"Urdu\": \"rgb(45,81,146)\"\n",
        "}\n",
        "\n",
        "\n",
        "fig = px.scatter(accuracyBasqOrig_df, template=\"ggplot2\", color_discrete_map=genusColours)\n",
        "\n",
        "fig.update_xaxes(title_text=\"Layers\")\n",
        "fig.update_yaxes(title_text=\"Accuracy\")\n",
        "\n",
        "fig.update_layout(\n",
        "    font_family=\"Brill\",\n",
        "    font_color=\"black\",\n",
        "    title_font_family=\"Brill\",\n",
        "    legend_title_text='Language',\n",
        "    title = \"Accuracy for A-O classification per layer (trained on Basque, Original sample, overall)\"\n",
        ")\n",
        "\n",
        "# pio.write_image(fig, 'Figures/Accuracy for A-O classification per layer (trained on Basque, Original sample, overall).png',scale=6, width=1000, height=700)\n",
        "\n",
        "fig.show()"
      ]
    },
    {
      "cell_type": "markdown",
      "metadata": {
        "id": "AkfcFlHPYaye"
      },
      "source": [
        "The highest accuracy for each testing language and layer on which it was achieved."
      ]
    },
    {
      "cell_type": "code",
      "execution_count": null,
      "metadata": {
        "id": "9bONZ8XRYayf"
      },
      "outputs": [],
      "source": [
        "highestAccuracyBasq = {\"Value\": [], \"Layer\" : []}\n",
        "\n",
        "for language in accuracyBasqOrig_df.columns:\n",
        "    highestAccuracyBasq[\"Value\"].append(accuracyBasqOrig_df[language].max())\n",
        "    highestAccuracyBasq[\"Layer\"].append(int(accuracyBasqOrig_df[language].argmax()))\n",
        "\n",
        "highestAccuracyBasqdf = pd.DataFrame(highestAccuracyBasq, index=accuracyBasqOrig_df.columns)\n",
        "highestAccuracyBasqdf"
      ]
    },
    {
      "cell_type": "markdown",
      "metadata": {
        "id": "zr5cfA9fYayf"
      },
      "source": [
        "The mean accuracy for each language."
      ]
    },
    {
      "cell_type": "code",
      "execution_count": null,
      "metadata": {
        "id": "Ffbc8quDYayf"
      },
      "outputs": [],
      "source": [
        "accuracyBasqOrig_df.mean()"
      ]
    },
    {
      "cell_type": "markdown",
      "metadata": {
        "id": "nDV4bFiGEs4y"
      },
      "source": [
        "Here we calculate, what was more often predicted as S argument."
      ]
    },
    {
      "cell_type": "code",
      "execution_count": null,
      "metadata": {
        "id": "RqNfHIHuEs4y"
      },
      "outputs": [],
      "source": [
        "fig = make_subplots(rows=12, cols=2, subplot_titles=(list(basqueDataOrig.values())))\n",
        "\n",
        "cnt = 0\n",
        "\n",
        "for language in basqueDataOrig:\n",
        "    lang_data = pd.DataFrame.from_dict(roleClassProportion(language, \"S\"))\n",
        "\n",
        "    fig.add_trace(\n",
        "        go.Scatter(\n",
        "            name=\"A\",\n",
        "            x=[i for i in range(13)],\n",
        "            y=lang_data[\"A\"],\n",
        "            marker=dict(color=\"green\"),\n",
        "            legendgroup=\"A\",\n",
        "            showlegend=False,\n",
        "        ),\n",
        "        row=cnt // 2 + 1,\n",
        "        col=cnt % 2 % 12 + 1\n",
        "    )\n",
        "\n",
        "    fig.add_trace(\n",
        "        go.Scatter(\n",
        "            name=\"O\",\n",
        "            x=[i for i in range(13)],\n",
        "            y=lang_data[\"O\"],\n",
        "            marker=dict(color=\"goldenrod\"),\n",
        "            legendgroup=\"O\",\n",
        "            showlegend=False,\n",
        "        ),\n",
        "        row=cnt // 2 + 1,\n",
        "        col=cnt % 2 % 12 + 1\n",
        "    )\n",
        "\n",
        "    cnt += 1\n",
        "\n",
        "fig.update_layout(\n",
        "    height=2000,\n",
        "    width=800,\n",
        "    font_family=\"Brill\",\n",
        "    font_color=\"black\",\n",
        "    title_font_family=\"Brill\",\n",
        "    legend_title_text=\"Role\",\n",
        "    template=\"ggplot2\",\n",
        "    title_text=\"The proportion of S argument classified as A and O (trained on Basque, Original sample)\"\n",
        ")\n",
        "\n",
        "fig.update_xaxes(title_text=\"Layers\")\n",
        "fig.update_yaxes(title_text=\"Proportion\")\n",
        "\n",
        "# pio.write_image(fig, 'Figures/The proportion of S argument classified as A and O (trained on Basque, Original sample).png',scale=6, width=1000, height=2500)\n",
        "\n",
        "fig.show()\n"
      ]
    },
    {
      "cell_type": "markdown",
      "metadata": {
        "id": "-JTnmG7VEs4y"
      },
      "source": [
        "Here we calculate the amount of S argument predicted as A or O with marking the animacy of S."
      ]
    },
    {
      "cell_type": "code",
      "execution_count": null,
      "metadata": {
        "id": "MLtDTfxHEs4z"
      },
      "outputs": [],
      "source": [
        "fig = make_subplots(rows=12, cols=2, subplot_titles=(list(basqueDataOrig.values())))\n",
        "\n",
        "cnt = 0\n",
        "\n",
        "for language in basqueDataOrig:\n",
        "    lang_data = pd.DataFrame(roleClassProportionAnimacy(language, \"S\"))\n",
        "\n",
        "    colors = {\"A\": \"green\", \"O\": \"goldenrod\"}\n",
        "\n",
        "    for y in lang_data.role.unique():\n",
        "        dfy = lang_data[lang_data.role == y]\n",
        "\n",
        "        fig.add_trace(\n",
        "            go.Bar(\n",
        "                name=str(y),\n",
        "                x=dfy.animacy,\n",
        "                y=dfy.cnt,\n",
        "                marker=dict(color=colors[str(y)]),\n",
        "                legendgroup=str(y),\n",
        "                showlegend=False,\n",
        "            ),\n",
        "            row=cnt // 2 + 1,\n",
        "            col=cnt % 2 % 12 + 1\n",
        "        )\n",
        "\n",
        "    cnt += 1\n",
        "\n",
        "fig.update_layout(\n",
        "    height=2000,\n",
        "    width=800,\n",
        "    font_family=\"Brill\",\n",
        "    font_color=\"black\",\n",
        "    title_font_family=\"Brill\",\n",
        "    legend_title_text=\"Role\",\n",
        "    template=\"ggplot2\",\n",
        "    title_text=\"The amount of S argument classified as A and O with animacy distinction (trained on Basque, Original sample)\"\n",
        ")\n",
        "\n",
        "# pio.write_image(fig, 'Figures/The amount of S argument classified as A and O with animacy distinction (trained on Basque, Original sample).png',scale=6, width=1000, height=2500)\n",
        "\n",
        "fig.show()\n"
      ]
    },
    {
      "cell_type": "markdown",
      "metadata": {
        "id": "uVTH4hwOnNgv"
      },
      "source": [
        "### Balanced Sample"
      ]
    },
    {
      "cell_type": "markdown",
      "metadata": {
        "id": "fTVkSANuHgH-"
      },
      "source": [
        "The dictionary where the value is the name of the testing language and the key is the path to the results for this pair with Basque (train language)."
      ]
    },
    {
      "cell_type": "code",
      "execution_count": null,
      "metadata": {
        "id": "QFmuXkwZHgH_"
      },
      "outputs": [],
      "source": [
        "basqueDataBalanced = {\n",
        "    \"/content/BalancedLanguageSampling/results/balanced sample/Afrikaans/eu_bdt-ud_af_afribooms-ud-train.conllu_0\": \"Afrikaans\",\n",
        "    \"/content/BalancedLanguageSampling/results/balanced sample/Korean/eu_bdt-ud_ko_kaist-ud-train.conllu_0\": \"Korean\",\n",
        "    \"/content/BalancedLanguageSampling/results/balanced sample/Basque/eu_bdt-ud_eu_bdt-ud-test.conllu_0\": \"Basque\",\n",
        "    \"/content/BalancedLanguageSampling/results/balanced sample/Portuguese/eu_bdt-ud_pt_cintil-ud-train.conllu_0\": \"Portuguese\",\n",
        "    \"/content/BalancedLanguageSampling/results/balanced sample/Indonesian/eu_bdt-ud_id_gsd-ud-train.conllu_0\": \"Indonesian\",\n",
        "    \"/content/BalancedLanguageSampling/results/balanced sample/Armenian/eu_bdt-ud_hy_armtdp-ud-train.conllu_0\": \"Armenian\",\n",
        "    \"/content/BalancedLanguageSampling/results/balanced sample/Russian/eu_bdt-ud_ru_syntagrus-ud-train.conllu_0\": \"Russian\",\n",
        "    \"/content/BalancedLanguageSampling/results/balanced sample/Greek/eu_bdt-ud_el_gdt-ud-train.conllu_0\": \"Greek\",\n",
        "    \"/content/BalancedLanguageSampling/results/balanced sample/Chinese/eu_bdt-ud_zh_gsd-ud-train.conllu_0\": \"Chinese\",\n",
        "    \"/content/BalancedLanguageSampling/results/balanced sample/Latin/eu_bdt-ud_la_ittb-ud-train.conllu_0\": \"Latin\",\n",
        "    \"/content/BalancedLanguageSampling/results/balanced sample/Arabic/eu_bdt-ud_ar_nyuad-ud-train.conllu_0\": \"Arabic\",\n",
        "    \"/content/BalancedLanguageSampling/results/balanced sample/Vietnamese/eu_bdt-ud_vi_vtb-ud-train.conllu_0\": \"Vietnamese\",\n",
        "    \"/content/BalancedLanguageSampling/results/balanced sample/Hungarian/eu_bdt-ud_hu_szeged-ud-train.conllu_0\": \"Hungarian\",\n",
        "    \"/content/BalancedLanguageSampling/results/balanced sample/Georgian/eu_bdt-ud_ka_glc-ud-train.conllu_0\": \"Georgian\",\n",
        "    \"/content/BalancedLanguageSampling/results/balanced sample/Finnish/eu_bdt-ud_fi_tdt-ud-train.conllu_0\": \"Finnish\",\n",
        "    \"/content/BalancedLanguageSampling/results/balanced sample/Turkish/eu_bdt-ud_tr_penn-ud-train.conllu_0\": \"Turkish\",\n",
        "    \"/content/BalancedLanguageSampling/results/balanced sample/Hindi/eu_bdt-ud_hi_hdtb-ud-train.conllu_0\": \"Hindi\",\n",
        "    \"/content/BalancedLanguageSampling/results/balanced sample/Japanese/eu_bdt-ud_ja_gsd-ud-train.conllu_0\": \"Japanese\",\n",
        "    \"/content/BalancedLanguageSampling/results/balanced sample/Persian/eu_bdt-ud_fa_perdt-ud-train.conllu_0\": \"Persian\",\n",
        "    \"/content/BalancedLanguageSampling/results/balanced sample/Javanese/eu_bdt-ud_jv_csui-ud-test.conllu_0\": \"Javanese\",\n",
        "    \"/content/BalancedLanguageSampling/results/balanced sample/Tamil/eu_bdt-ud_ta_ttb-ud-train.conllu_0\": \"Tamil\"\n",
        "}\n"
      ]
    },
    {
      "cell_type": "markdown",
      "metadata": {
        "id": "4SsOREEXHgIA"
      },
      "source": [
        "Here we calculate the accuracy in A-O classification per layer for each pair."
      ]
    },
    {
      "cell_type": "code",
      "execution_count": null,
      "metadata": {
        "id": "LFi_jg8FHgIA"
      },
      "outputs": [],
      "source": [
        "accuracyBasqBalanced = {}\n",
        "\n",
        "for language in basqueDataBalanced:\n",
        "    accuracyBasqBalanced[basqueDataBalanced[language]] = list(layerAccuracy(language).values())\n",
        "\n",
        "accuracyBasqBalanced_df = pd.DataFrame.from_dict(accuracyBasqBalanced)"
      ]
    },
    {
      "cell_type": "markdown",
      "metadata": {
        "id": "LBe8wIADHgIA"
      },
      "source": [
        "And visualize the results."
      ]
    },
    {
      "cell_type": "code",
      "execution_count": null,
      "metadata": {
        "id": "pVD9hTT0HgIA"
      },
      "outputs": [],
      "source": [
        "fig = make_subplots(rows=11, cols=2, subplot_titles=(list(basqueDataBalanced.values())))\n",
        "\n",
        "cnt = 0\n",
        "\n",
        "for language in basqueDataBalanced:\n",
        "    fig.add_trace(\n",
        "        go.Scatter(\n",
        "            x=[i for i in range(13)], y=accuracyBasqBalanced_df[basqueDataBalanced[language]], showlegend=False\n",
        "        ),\n",
        "        row=cnt // 2 + 1,\n",
        "        col=cnt % 2 % 11 + 1\n",
        "    )\n",
        "\n",
        "    cnt += 1\n",
        "\n",
        "fig.update_layout(\n",
        "    height=2000,\n",
        "    width=800,\n",
        "    font_family=\"Brill\",\n",
        "    font_color=\"black\",\n",
        "    title_font_family=\"Brill\",\n",
        "    template=\"ggplot2\",\n",
        "    title_text=\"Accuracy for A-O classification per layer (trained on Basque, Balanced sample)\"\n",
        ")\n",
        "\n",
        "fig.update_xaxes(title_text=\"Layers\")\n",
        "fig.update_yaxes(title_text=\"Accuracy\")\n",
        "\n",
        "# pio.write_image(fig, 'Figures/Accuracy for A-O classification per layer (trained on Basque, Balanced sample).png',scale=6, width=800, height=2000)\n",
        "\n",
        "fig.show()\n"
      ]
    },
    {
      "cell_type": "code",
      "execution_count": null,
      "metadata": {
        "id": "NhbfL7_aHgIA"
      },
      "outputs": [],
      "source": [
        "fig = px.scatter(accuracyBasqBalanced_df, template=\"ggplot2\")\n",
        "\n",
        "fig.update_xaxes(title_text=\"Layers\")\n",
        "fig.update_yaxes(title_text=\"Accuracy\")\n",
        "\n",
        "fig.update_layout(\n",
        "    font_family=\"Brill\",\n",
        "    font_color=\"black\",\n",
        "    title_font_family=\"Brill\",\n",
        "    legend_title_text='Language',\n",
        "    title = \"Accuracy for A-O classification per layer (trained on Basque, overall, Balanced sample)\"\n",
        ")\n",
        "\n",
        "# pio.write_image(fig, 'Figures/Accuracy for A-O classification per layer (trained on Basque, overall, Balanced sample).png',scale=6, width=1000, height=700)\n",
        "\n",
        "fig.show()"
      ]
    },
    {
      "cell_type": "markdown",
      "metadata": {
        "id": "SIIpv3VFYz9R"
      },
      "source": [
        "The highest accuracy for each language and layer on which it was achieved."
      ]
    },
    {
      "cell_type": "code",
      "execution_count": null,
      "metadata": {
        "id": "0TiK_RaSYz9R"
      },
      "outputs": [],
      "source": [
        "highestAccuracyBasqB = {\"Value\": [], \"Layer\" : []}\n",
        "\n",
        "for language in accuracyBasqBalanced_df.columns:\n",
        "    highestAccuracyBasqB[\"Value\"].append(accuracyBasqBalanced_df[language].max())\n",
        "    highestAccuracyBasqB[\"Layer\"].append(int(accuracyBasqBalanced_df[language].argmax()))\n",
        "\n",
        "highestAccuracyBasqBdf = pd.DataFrame(highestAccuracyBasqB, index=accuracyBasqBalanced_df.columns)\n",
        "highestAccuracyBasqBdf"
      ]
    },
    {
      "cell_type": "markdown",
      "metadata": {
        "id": "DwdyTYkHYz9S"
      },
      "source": [
        "The mean accuracy for each language."
      ]
    },
    {
      "cell_type": "code",
      "execution_count": null,
      "metadata": {
        "id": "vwHCcqkhYz9S"
      },
      "outputs": [],
      "source": [
        "accuracyBasqBalanced_df.mean()"
      ]
    },
    {
      "cell_type": "markdown",
      "metadata": {
        "id": "r6bBkP-HHgIB"
      },
      "source": [
        "Here we calculate, what was more often predicted as S argument."
      ]
    },
    {
      "cell_type": "code",
      "execution_count": null,
      "metadata": {
        "id": "eg6hoo84HgIB"
      },
      "outputs": [],
      "source": [
        "fig = make_subplots(rows=11, cols=2, subplot_titles=(list(basqueDataBalanced.values())))\n",
        "\n",
        "cnt = 0\n",
        "\n",
        "for language in basqueDataBalanced:\n",
        "    lang_data = pd.DataFrame.from_dict(roleClassProportion(language, \"S\"))\n",
        "\n",
        "    fig.add_trace(\n",
        "        go.Scatter(\n",
        "            name=\"A\",\n",
        "            x=[i for i in range(13)],\n",
        "            y=lang_data[\"A\"],\n",
        "            marker=dict(color=\"green\"),\n",
        "            legendgroup=\"A\",\n",
        "            showlegend=False,\n",
        "        ),\n",
        "        row=cnt // 2 + 1,\n",
        "        col=cnt % 2 % 11 + 1\n",
        "    )\n",
        "\n",
        "    fig.add_trace(\n",
        "        go.Scatter(\n",
        "            name=\"O\",\n",
        "            x=[i for i in range(13)],\n",
        "            y=lang_data[\"O\"],\n",
        "            marker=dict(color=\"goldenrod\"),\n",
        "            legendgroup=\"O\",\n",
        "            showlegend=False,\n",
        "        ),\n",
        "        row=cnt // 2 + 1,\n",
        "        col=cnt % 2 % 11 + 1\n",
        "    )\n",
        "\n",
        "    cnt += 1\n",
        "\n",
        "fig.update_layout(\n",
        "    height=2000,\n",
        "    width=800,\n",
        "    font_family=\"Brill\",\n",
        "    font_color=\"black\",\n",
        "    title_font_family=\"Brill\",\n",
        "    legend_title_text=\"Role\",\n",
        "    template=\"ggplot2\",\n",
        "    title_text=\"The proportion of S argument classified as A and O (trained on Basque, Balanced sample)\"\n",
        ")\n",
        "\n",
        "fig.update_xaxes(title_text=\"Layers\")\n",
        "fig.update_yaxes(title_text=\"Proportion\")\n",
        "\n",
        "# pio.write_image(fig, 'Figures/The proportion of S argument classified as A and O (trained on Basque, Balanced sample).png',scale=6, width=800, height=2000)\n",
        "\n",
        "fig.show()\n"
      ]
    },
    {
      "cell_type": "markdown",
      "metadata": {
        "id": "pTW3hZMlHgIB"
      },
      "source": [
        "Here we calculate the proportion of S argument predicted as A or O with marking the animacy of S."
      ]
    },
    {
      "cell_type": "code",
      "execution_count": null,
      "metadata": {
        "id": "8N7f-QKCHgIB"
      },
      "outputs": [],
      "source": [
        "fig = make_subplots(rows=11, cols=2, subplot_titles=(list(basqueDataBalanced.values())))\n",
        "\n",
        "cnt = 0\n",
        "\n",
        "for language in basqueDataBalanced:\n",
        "    lang_data = pd.DataFrame(roleClassProportionAnimacy(language, \"S\"))\n",
        "\n",
        "    colors = {\"A\": \"green\", \"O\": \"goldenrod\"}\n",
        "\n",
        "    for y in lang_data.role.unique():\n",
        "        dfy = lang_data[lang_data.role == y]\n",
        "\n",
        "        fig.add_trace(\n",
        "            go.Bar(\n",
        "                name=str(y),\n",
        "                x=dfy.animacy,\n",
        "                y=dfy.cnt,\n",
        "                marker=dict(color=colors[str(y)]),\n",
        "                legendgroup=str(y),\n",
        "                showlegend=False,\n",
        "            ),\n",
        "            row=cnt // 2 + 1,\n",
        "            col=cnt % 2 % 11 + 1\n",
        "        )\n",
        "\n",
        "    cnt += 1\n",
        "\n",
        "fig.update_layout(\n",
        "    height=2000,\n",
        "    width=800,\n",
        "    font_family=\"Brill\",\n",
        "    font_color=\"black\",\n",
        "    title_font_family=\"Brill\",\n",
        "    legend_title_text=\"Role\",\n",
        "    template=\"ggplot2\",\n",
        "    title_text=\"The amount of S argument classified as A and O with animacy distinction (trained on Basque, Balanced sample)\"\n",
        ")\n",
        "\n",
        "# pio.write_image(fig, 'Figures/The amount of S argument classified as A and O with animacy distinction (trained on Basque, Balanced sample).png',scale=6, width=800, height=2000)\n",
        "\n",
        "fig.show()\n"
      ]
    },
    {
      "cell_type": "markdown",
      "metadata": {
        "id": "C3JdW1m4GD4k"
      },
      "source": [
        "### Comparing two samples"
      ]
    },
    {
      "cell_type": "markdown",
      "metadata": {
        "id": "hg59-qIyGD4k"
      },
      "source": [
        "In this section we compare the mean accuracy for each layer in two samples."
      ]
    },
    {
      "cell_type": "code",
      "execution_count": null,
      "metadata": {
        "id": "3aZUCFndGD4l"
      },
      "outputs": [],
      "source": [
        "meanAccuracyComp = pd.concat([accuracyBasqOrig_df.mean(axis=1), accuracyBasqBalanced_df.mean(axis=1)], axis=1).rename(columns={0: \"Original sample\", 1: \"Balanced sample\"})"
      ]
    },
    {
      "cell_type": "code",
      "execution_count": null,
      "metadata": {
        "id": "dpS_cAqrGD4l"
      },
      "outputs": [],
      "source": [
        "fig = go.Figure()\n",
        "fig.add_trace(go.Box(y=meanAccuracyComp[\"Original sample\"], name='Original sample', marker_color = 'orangered'))\n",
        "fig.add_trace(go.Box(y=meanAccuracyComp[\"Balanced sample\"], name = 'Balanced sample', marker_color = 'olive'))\n",
        "\n",
        "fig.update_yaxes(title_text=\"Accuracy\")\n",
        "\n",
        "fig.update_layout(\n",
        "    template=\"ggplot2\",\n",
        "    font_family=\"Brill\",\n",
        "    font_color=\"black\",\n",
        "    title_font_family=\"Brill\",\n",
        "    legend_title_text=\"Language\",\n",
        "    showlegend=False,\n",
        "    title=\"Boxplot for mean accuracy per layer (Original vs. Balanced Sample)\"\n",
        ")\n",
        "\n",
        "# pio.write_image(fig, 'Figures/Boxplot for mean accuracy per layer (Original vs. Balanced Sample).png',scale=6, width=1000, height=500)\n",
        "\n",
        "fig.show()"
      ]
    },
    {
      "cell_type": "code",
      "execution_count": null,
      "metadata": {
        "id": "-r5O3YdWGD4l"
      },
      "outputs": [],
      "source": [
        "fig = px.scatter(\n",
        "    meanAccuracyComp,\n",
        "    template=\"ggplot2\",\n",
        ")\n",
        "\n",
        "fig.update_xaxes(title_text=\"Layers\")\n",
        "fig.update_yaxes(title_text=\"Mean accuracy\")\n",
        "\n",
        "fig.update_layout(\n",
        "    font_family=\"Brill\",\n",
        "    font_color=\"black\",\n",
        "    title_font_family=\"Brill\",\n",
        "    legend_title_text=\"Language\",\n",
        "    title=\"Mean accuracy per layer (Original vs. Balanced Sample)\"\n",
        ")\n",
        "\n",
        "# pio.write_image(fig, 'Figures/Mean accuracy per layer (Original vs. Balanced Sample).png',scale=6, width=1000, height=500)\n",
        "\n",
        "fig.show()\n"
      ]
    },
    {
      "cell_type": "markdown",
      "metadata": {
        "id": "mCjNLdNU_5s_"
      },
      "source": [
        "Here we use the Mann-Whitney U-test to examine whether the distribution of the accuracy in the original sample differs from the balanced sample."
      ]
    },
    {
      "cell_type": "code",
      "execution_count": null,
      "metadata": {
        "id": "uVfgZTfAgal6"
      },
      "outputs": [],
      "source": [
        "mannwhitneyu(meanAccuracyComp[\"Original sample\"], meanAccuracyComp[\"Balanced sample\"])"
      ]
    },
    {
      "cell_type": "markdown",
      "metadata": {
        "id": "aNrdxdBTi7ZJ"
      },
      "source": [
        "## Experiment №3"
      ]
    },
    {
      "cell_type": "markdown",
      "metadata": {
        "id": "6bMHRd1esP6a"
      },
      "source": [
        "In this section we provide visualization of the results that we got during the experiment №3 on the extra sample.\n",
        "\n",
        "For more details, see Section 3.5 of the term paper."
      ]
    },
    {
      "cell_type": "markdown",
      "metadata": {
        "id": "UV26TUvNnOYr"
      },
      "source": [
        "### Extra Sample"
      ]
    },
    {
      "cell_type": "markdown",
      "metadata": {
        "id": "XzI4J-_lDN5B"
      },
      "source": [
        "The dictionary where the key is the language and the value is the path to the results for this language."
      ]
    },
    {
      "cell_type": "code",
      "execution_count": null,
      "metadata": {
        "id": "XZc8h4OtYqdh"
      },
      "outputs": [],
      "source": [
        "extraDir = {\n",
        "    \"Naija\": \"/content/BalancedLanguageSampling/results/extra subsample/Naija/pcm_nsc-ud-test.conllu_0\",\n",
        "    \"North Saami\": \"/content/BalancedLanguageSampling/results/extra subsample/North Saami/sme_giella-ud-test.conllu_0\",\n",
        "    \"Sanskrit\": \"/content/BalancedLanguageSampling/results/extra subsample/Sanskrit/sa_vedic-ud-test.conllu_0\"\n",
        "}"
      ]
    },
    {
      "cell_type": "markdown",
      "metadata": {
        "id": "equEE1IpDN5C"
      },
      "source": [
        "Here we create a dataframe where the stats for each role and language is counted."
      ]
    },
    {
      "cell_type": "code",
      "execution_count": null,
      "metadata": {
        "id": "FTSZNaS-DN5C"
      },
      "outputs": [],
      "source": [
        "roleStatsExtra = {key : {} for key in extraDir.keys()}\n",
        "\n",
        "for language in extraDir:\n",
        "    roleStatsExtra[language] = roleCounter(extraDir[language], [\"S\", \"A\", \"O\"])\n",
        "\n",
        "roleStatsExtra_df = pd.DataFrame(roleStatsExtra)\n",
        "roleStatsExtra_df"
      ]
    },
    {
      "cell_type": "markdown",
      "metadata": {
        "id": "3NoOBOj1DN5C"
      },
      "source": [
        "Here we calculate the accuracy in A-O classification per layer for each language."
      ]
    },
    {
      "cell_type": "code",
      "execution_count": null,
      "metadata": {
        "id": "dv4t_qABDN5C"
      },
      "outputs": [],
      "source": [
        "accuracyExtra = {}\n",
        "\n",
        "for language in extraDir:\n",
        "    accuracyExtra[language] = list(layerAccuracy(extraDir[language]).values())\n",
        "\n",
        "accuracyExtra_df = pd.DataFrame.from_dict(accuracyExtra)"
      ]
    },
    {
      "cell_type": "markdown",
      "metadata": {
        "id": "PMPvGTrqDN5D"
      },
      "source": [
        "And visualize the results."
      ]
    },
    {
      "cell_type": "code",
      "execution_count": null,
      "metadata": {
        "id": "V62svnxEDN5D"
      },
      "outputs": [],
      "source": [
        "fig = make_subplots(rows=3, cols=1, subplot_titles=(list(extraDir.keys())))\n",
        "\n",
        "cnt = 1\n",
        "\n",
        "for language in extraDir:\n",
        "    fig.add_trace(\n",
        "        go.Scatter(\n",
        "            x=[i for i in range(13)], y=accuracyExtra_df[language], showlegend=False\n",
        "        ),\n",
        "        row=cnt,\n",
        "        col=1\n",
        "    )\n",
        "\n",
        "    cnt += 1\n",
        "\n",
        "fig.update_layout(\n",
        "    height=1000,\n",
        "    width=800,\n",
        "    font_family=\"Brill\",\n",
        "    font_color=\"black\",\n",
        "    title_font_family=\"Brill\",\n",
        "    legend_title_text=\"Language\",\n",
        "    template=\"ggplot2\",\n",
        "    title_text=\"Accuracy for A-O classification per layer (Extra Sample)\"\n",
        ")\n",
        "\n",
        "fig.update_xaxes(title_text=\"Layers\")\n",
        "fig.update_yaxes(title_text=\"Accuracy\")\n",
        "\n",
        "# pio.write_image(fig, 'Figures/Accuracy for A-O classification per layer (Extra Sample).png',scale=6, width=800, height=1000)\n",
        "\n",
        "fig.show()\n"
      ]
    },
    {
      "cell_type": "code",
      "execution_count": null,
      "metadata": {
        "id": "doHfHrYaDN5D"
      },
      "outputs": [],
      "source": [
        "fig = px.scatter(accuracyExtra_df, template=\"ggplot2\")\n",
        "\n",
        "fig.update_xaxes(title_text=\"Layers\")\n",
        "fig.update_yaxes(title_text=\"Accuracy\")\n",
        "\n",
        "fig.update_layout(\n",
        "    font_family=\"Brill\",\n",
        "    font_color=\"black\",\n",
        "    title_font_family=\"Brill\",\n",
        "    legend_title_text='Language',\n",
        "    title = \"Accuracy for A-O classification per layer (overall, Extra Sample\"\n",
        ")\n",
        "\n",
        "# pio.write_image(fig, \"Figures/Accuracy for A-O classification per layer (overall, Extra Sample).png\",scale=6, width=1000, height=700)\n",
        "\n",
        "fig.show()"
      ]
    },
    {
      "cell_type": "markdown",
      "metadata": {
        "id": "f_1QdvkoZJvt"
      },
      "source": [
        "The highest accuracy for each language and layer on which it was achieved."
      ]
    },
    {
      "cell_type": "code",
      "execution_count": null,
      "metadata": {
        "id": "Oz_3mvnVZJvu"
      },
      "outputs": [],
      "source": [
        "highestAccuracyExtra = {\"Value\": [], \"Layer\" : []}\n",
        "\n",
        "for language in accuracyExtra_df.columns:\n",
        "    highestAccuracyExtra[\"Value\"].append(accuracyExtra_df[language].max())\n",
        "    highestAccuracyExtra[\"Layer\"].append(int(accuracyExtra_df[language].argmax()))\n",
        "\n",
        "highestAccuracyExtradf = pd.DataFrame(highestAccuracyExtra, index=accuracyExtra_df.columns)\n",
        "highestAccuracyExtradf"
      ]
    },
    {
      "cell_type": "markdown",
      "metadata": {
        "id": "1pNytZN8ZJvx"
      },
      "source": [
        "The mean accuracy for each language."
      ]
    },
    {
      "cell_type": "code",
      "execution_count": null,
      "metadata": {
        "id": "rGPMlyn_ZJvx"
      },
      "outputs": [],
      "source": [
        "accuracyExtra_df.mean()"
      ]
    },
    {
      "cell_type": "markdown",
      "metadata": {
        "id": "J-oJHxuXDN5D"
      },
      "source": [
        "Here we calculate what was more often predicted as S argument."
      ]
    },
    {
      "cell_type": "code",
      "execution_count": null,
      "metadata": {
        "id": "Ueq-E3cQDN5D"
      },
      "outputs": [],
      "source": [
        "fig = make_subplots(rows=3, cols=1, subplot_titles=(list(extraDir.keys())))\n",
        "\n",
        "cnt = 1\n",
        "\n",
        "for language in extraDir:\n",
        "    lang_data = pd.DataFrame.from_dict(roleClassProportion(extraDir[language], \"S\"))\n",
        "\n",
        "    fig.add_trace(\n",
        "        go.Scatter(\n",
        "            name=\"A\",\n",
        "            x=[i for i in range(13)],\n",
        "            y=lang_data[\"A\"],\n",
        "            marker=dict(color=\"green\"),\n",
        "            legendgroup=\"A\",\n",
        "            showlegend=False,\n",
        "        ),\n",
        "        row=cnt,\n",
        "        col=1\n",
        "    )\n",
        "\n",
        "    fig.add_trace(\n",
        "        go.Scatter(\n",
        "            name=\"O\",\n",
        "            x=[i for i in range(13)],\n",
        "            y=lang_data[\"O\"],\n",
        "            marker=dict(color=\"goldenrod\"),\n",
        "            legendgroup=\"O\",\n",
        "            showlegend=False,\n",
        "        ),\n",
        "        row=cnt,\n",
        "        col=1\n",
        "    )\n",
        "\n",
        "    cnt += 1\n",
        "\n",
        "fig.update_layout(\n",
        "    height=1000,\n",
        "    width=800,\n",
        "    font_family=\"Brill\",\n",
        "    font_color=\"black\",\n",
        "    title_font_family=\"Brill\",\n",
        "    legend_title_text=\"Role\",\n",
        "    template=\"ggplot2\",\n",
        "    title_text=\"The proportion of S argument classified as A and O (Extra sample)\"\n",
        ")\n",
        "\n",
        "fig.update_xaxes(title_text=\"Layers\")\n",
        "fig.update_yaxes(title_text=\"Proportion\")\n",
        "\n",
        "# pio.write_image(fig, \"Figures/The proportion of S argument classified as A and O (Extra sample).png\",scale=6, width=800, height=1000)\n",
        "\n",
        "fig.show()\n"
      ]
    },
    {
      "cell_type": "markdown",
      "metadata": {
        "id": "DIEMHRueDN5D"
      },
      "source": [
        "Here we calculate the proportion of S argument predicted as A or O with marking the animacy of S."
      ]
    },
    {
      "cell_type": "code",
      "execution_count": null,
      "metadata": {
        "id": "yxZgN45hDN5D"
      },
      "outputs": [],
      "source": [
        "fig = make_subplots(rows=3, cols=1, subplot_titles=(list(extraDir.keys())))\n",
        "\n",
        "cnt = 1\n",
        "\n",
        "for language in extraDir:\n",
        "    lang_data = pd.DataFrame(roleClassProportionAnimacy(extraDir[language], \"S\"))\n",
        "\n",
        "    colors = {\"A\": \"green\", \"O\": \"goldenrod\"}\n",
        "\n",
        "    for y in lang_data.role.unique():\n",
        "        dfy = lang_data[lang_data.role == y]\n",
        "\n",
        "        fig.add_trace(\n",
        "            go.Bar(\n",
        "                name=str(y),\n",
        "                x=dfy.animacy,\n",
        "                y=dfy.cnt,\n",
        "                marker=dict(color=colors[str(y)]),\n",
        "                legendgroup=str(y),\n",
        "                showlegend=False,\n",
        "            ),\n",
        "            row=cnt,\n",
        "            col=1,\n",
        "        )\n",
        "\n",
        "    cnt += 1\n",
        "\n",
        "fig.update_layout(\n",
        "    height=1000,\n",
        "    width=800,\n",
        "    font_family=\"Brill\",\n",
        "    font_color=\"black\",\n",
        "    title_font_family=\"Brill\",\n",
        "    legend_title_text=\"Role\",\n",
        "    template=\"ggplot2\",\n",
        "    title_text=\"The amount of S classified as A and O with animacy distinction (Extra sample)\"\n",
        ")\n",
        "\n",
        "# pio.write_image(fig, \"Figures/The amount of S classified as A and O with animacy distinction (Extra sample).png\",scale=6, width=800, height=1000)\n",
        "\n",
        "fig.show()\n"
      ]
    },
    {
      "cell_type": "markdown",
      "metadata": {
        "id": "O_g9bhtaKQrA"
      },
      "source": [
        "Here we calculate what was more often predicted as S-passive."
      ]
    },
    {
      "cell_type": "code",
      "execution_count": null,
      "metadata": {
        "id": "qcqaEJWFKQ8-"
      },
      "outputs": [],
      "source": [
        "fig = make_subplots(rows=3, cols=1, subplot_titles=(list(extraDir.keys())))\n",
        "\n",
        "cnt = 1\n",
        "\n",
        "for language in extraDir:\n",
        "    lang_data = pd.DataFrame.from_dict(roleClassProportion(extraDir[language], \"S-passive\"))\n",
        "\n",
        "    fig.add_trace(\n",
        "        go.Scatter(\n",
        "            name=\"A\",\n",
        "            x=[i for i in range(13)],\n",
        "            y=lang_data[\"A\"],\n",
        "            marker=dict(color=\"green\"),\n",
        "            legendgroup=\"A\",\n",
        "            showlegend=False,\n",
        "        ),\n",
        "        row=cnt,\n",
        "        col=1\n",
        "    )\n",
        "\n",
        "    fig.add_trace(\n",
        "        go.Scatter(\n",
        "            name=\"O\",\n",
        "            x=[i for i in range(13)],\n",
        "            y=lang_data[\"O\"],\n",
        "            marker=dict(color=\"goldenrod\"),\n",
        "            legendgroup=\"O\",\n",
        "            showlegend=False,\n",
        "        ),\n",
        "        row=cnt,\n",
        "        col=1\n",
        "    )\n",
        "\n",
        "    cnt += 1\n",
        "\n",
        "fig.update_layout(\n",
        "    height=1000,\n",
        "    width=800,\n",
        "    font_family=\"Brill\",\n",
        "    font_color=\"black\",\n",
        "    title_font_family=\"Brill\",\n",
        "    legend_title_text=\"Role\",\n",
        "    template=\"ggplot2\",\n",
        "    title_text=\"The proportion of S-passive classified as A and O (Extra sample)\"\n",
        ")\n",
        "fig.update_xaxes(title_text=\"Layers\")\n",
        "fig.update_yaxes(title_text=\"Proportion\")\n",
        "\n",
        "# pio.write_image(fig, \"Figures/The proportion of S-passive classified as A and O (Extra sample).png\",scale=6, width=800, height=1000)\n",
        "\n",
        "fig.show()\n"
      ]
    },
    {
      "cell_type": "markdown",
      "metadata": {
        "id": "R3EBe6Tx1-Jy"
      },
      "source": [
        "## Discussion: Analyzing the word order"
      ]
    },
    {
      "cell_type": "markdown",
      "metadata": {
        "id": "Qp_ccBtQDAi6"
      },
      "source": [
        "In this subsection we try to analyze the probable correlation between the predictions of the multilingual model and the usual word order of S, A and O arguments throughout all the languages from three samples."
      ]
    },
    {
      "cell_type": "markdown",
      "metadata": {
        "id": "LoXqbL0IDYhh"
      },
      "source": [
        "At first we should upload [UD-data (v. 2.15)](https://universaldependencies.org/) to our google drive."
      ]
    },
    {
      "cell_type": "code",
      "execution_count": null,
      "metadata": {
        "id": "naOdn0N92FSw"
      },
      "outputs": [],
      "source": [
        "from google.colab import drive\n",
        "drive.mount('/content/drive/')"
      ]
    },
    {
      "cell_type": "code",
      "execution_count": null,
      "metadata": {
        "id": "J81HpPOM3QU9"
      },
      "outputs": [],
      "source": [
        "def distanceCount(path: str) -> list[list[int], list[int], list[int]]:\n",
        "    \"\"\"\n",
        "    Count the distance between S, A, O-roles and theirs head.\n",
        "\n",
        "    Arguments:\n",
        "        path : str\n",
        "            The path to the conllu-file.\n",
        "\n",
        "    Return:\n",
        "        list[list[int], list[int], list[int]]:\n",
        "            Three lists (for S, A and O) with counted distanced for\n",
        "            each noun that was found in conllu.\n",
        "\n",
        "    \"\"\"\n",
        "    a_roles = []\n",
        "    s_roles = []\n",
        "    o_roles = []\n",
        "    corpus = pyconll.load_from_file(path)\n",
        "\n",
        "    for sentence in corpus:\n",
        "        for token in sentence:\n",
        "            if token.upos == \"VERB\":\n",
        "                head = token\n",
        "                children_subjects = [\n",
        "                    int(token.id)\n",
        "                    for token in sentence\n",
        "                    if token.head == head.id\n",
        "                    and token.upos in [\"NOUN\", \"PROPN\"]\n",
        "                    and \"nsubj\" in token.deprel\n",
        "                ]\n",
        "                children_objects = [\n",
        "                    int(token.id)\n",
        "                    for token in sentence\n",
        "                    if token.head == head.id\n",
        "                    and token.upos in [\"NOUN\", \"PROPN\"]\n",
        "                    and \"obj\" in token.deprel\n",
        "                ]\n",
        "\n",
        "                if len(children_objects) > 0:\n",
        "                    for id_ in children_subjects:\n",
        "                        a_roles.append(id_ - int(head.id))\n",
        "                else:\n",
        "                    for id_ in children_subjects:\n",
        "                        s_roles.append(id_ - int(head.id))\n",
        "                for id_ in children_objects:\n",
        "                    o_roles.append(id_ - int(head.id))\n",
        "\n",
        "    return s_roles, a_roles, o_roles\n"
      ]
    },
    {
      "cell_type": "code",
      "execution_count": null,
      "metadata": {
        "id": "tskRMvkk3rTQ"
      },
      "outputs": [],
      "source": [
        "pathConllu = {\n",
        "    \"Basque\": \"/content/drive/MyDrive/ud-treebanks-v2.15/UD_Basque-BDT/eu_bdt-ud-train.conllu\",\n",
        "    \"Chinese\": \"/content/drive/MyDrive/ud-treebanks-v2.15/UD_Czech-PDT/cs_pdt-ud-train.conllu\",\n",
        "    \"Croatian\": \"/content/drive/MyDrive/ud-treebanks-v2.15/UD_Croatian-SET/hr_set-ud-train.conllu\",\n",
        "    \"Czech\": \"/content/drive/MyDrive/ud-treebanks-v2.15/UD_Czech-PDT/cs_pdt-ud-train.conllu\",\n",
        "    \"English\": \"/content/drive/MyDrive/ud-treebanks-v2.15/UD_English-EWT/en_ewt-ud-train.conllu\",\n",
        "    \"Estonian\": \"/content/drive/MyDrive/ud-treebanks-v2.15/UD_English-EWT/en_ewt-ud-train.conllu\",\n",
        "    \"Finnish\": \"/content/drive/MyDrive/ud-treebanks-v2.15/UD_Finnish-TDT/fi_tdt-ud-train.conllu\",\n",
        "    \"French\": \"/content/drive/MyDrive/ud-treebanks-v2.15/UD_French-GSD/fr_gsd-ud-train.conllu\",\n",
        "    \"German\": \"/content/drive/MyDrive/ud-treebanks-v2.15/UD_German-GSD/de_gsd-ud-train.conllu\",\n",
        "    \"Hebrew\": \"/content/drive/MyDrive/ud-treebanks-v2.15/UD_Hebrew-HTB/he_htb-ud-train.conllu\",\n",
        "    \"Hindi\": \"/content/drive/MyDrive/ud-treebanks-v2.15/UD_Hindi-HDTB/hi_hdtb-ud-train.conllu\",\n",
        "    \"Indonesian\": \"/content/drive/MyDrive/ud-treebanks-v2.15/UD_Indonesian-GSD/id_gsd-ud-train.conllu\",\n",
        "    \"Latin\": \"/content/drive/MyDrive/ud-treebanks-v2.15/UD_Latin-ITTB/la_ittb-ud-train.conllu\",\n",
        "    \"Norwegian\": \"/content/drive/MyDrive/ud-treebanks-v2.15/UD_Norwegian-Bokmaal/no_bokmaal-ud-train.conllu\",\n",
        "    \"Persian\": \"/content/drive/MyDrive/ud-treebanks-v2.15/UD_Persian-PerDT/fa_perdt-ud-train.conllu\",\n",
        "    \"Polish\": \"/content/drive/MyDrive/ud-treebanks-v2.15/UD_Polish-PDB/pl_pdb-ud-train.conllu\",\n",
        "    \"Russian\": \"/content/drive/MyDrive/ud-treebanks-v2.15/UD_Russian-SynTagRus/ru_syntagrus-ud-train.conllu\",\n",
        "    \"Serbian\": \"/content/drive/MyDrive/ud-treebanks-v2.15/UD_Serbian-SET/sr_set-ud-train.conllu\",\n",
        "    \"Slovak\": \"/content/drive/MyDrive/ud-treebanks-v2.15/UD_Slovak-SNK/sk_snk-ud-train.conllu\",\n",
        "    \"Slovenian\": \"/content/drive/MyDrive/ud-treebanks-v2.15/UD_Slovenian-SSJ/sl_ssj-ud-train.conllu\",\n",
        "    \"Spanish\": \"/content/drive/MyDrive/ud-treebanks-v2.15/UD_Spanish-AnCora/es_ancora-ud-train.conllu\",\n",
        "    \"Urdu\": \"/content/drive/MyDrive/ud-treebanks-v2.15/UD_Urdu-UDTB/ur_udtb-ud-train.conllu\",\n",
        "    \"Afrikaans\": \"/content/drive/MyDrive/ud-treebanks-v2.15/UD_Afrikaans-AfriBooms/af_afribooms-ud-train.conllu\",\n",
        "    \"Arabic\": \"/content/drive/MyDrive/ud-treebanks-v2.15/UD_Arabic-NYUAD/ar_nyuad-ud-train.conllu\",\n",
        "    \"Armenian\": \"/content/drive/MyDrive/ud-treebanks-v2.15/UD_Armenian-ArmTDP/hy_armtdp-ud-train.conllu\",\n",
        "    \"Georgian\": \"/content/drive/MyDrive/ud-treebanks-v2.15/UD_Georgian-GLC/ka_glc-ud-train.conllu\",\n",
        "    \"Greek\": \"/content/drive/MyDrive/ud-treebanks-v2.15/UD_Greek-GDT/el_gdt-ud-train.conllu\",\n",
        "    \"Hungarian\": \"/content/drive/MyDrive/ud-treebanks-v2.15/UD_Hungarian-Szeged/hu_szeged-ud-train.conllu\",\n",
        "    \"Japanese\": \"/content/drive/MyDrive/ud-treebanks-v2.15/UD_Japanese-GSD/ja_gsd-ud-train.conllu\",\n",
        "    \"Korean\": \"/content/drive/MyDrive/ud-treebanks-v2.15/UD_Korean-Kaist/ko_kaist-ud-train.conllu\",\n",
        "    \"Portuguese\": \"/content/drive/MyDrive/ud-treebanks-v2.15/UD_Portuguese-CINTIL/pt_cintil-ud-train.conllu\",\n",
        "    \"Turkish\": \"/content/drive/MyDrive/ud-treebanks-v2.15/UD_Turkish-Penn/tr_penn-ud-train.conllu\",\n",
        "    \"Vietnamese\": \"/content/drive/MyDrive/ud-treebanks-v2.15/UD_Vietnamese-VTB/vi_vtb-ud-train.conllu\",\n",
        "    \"Naija\": \"/content/drive/MyDrive/ud-treebanks-v2.15/UD_Naija-NSC/pcm_nsc-ud-train.conllu\",\n",
        "    \"North Saami\": \"/content/drive/MyDrive/ud-treebanks-v2.15/UD_North_Sami-Giella/sme_giella-ud-train.conllu\",\n",
        "    \"Sanskrit\": \"/content/drive/MyDrive/ud-treebanks-v2.15/UD_Sanskrit-Vedic/sa_vedic-ud-train.conllu\"\n",
        "}\n"
      ]
    },
    {
      "cell_type": "code",
      "execution_count": null,
      "metadata": {
        "id": "TmqByvzd-LJW"
      },
      "outputs": [],
      "source": [
        "titles = []\n",
        "\n",
        "for key in pathConllu:\n",
        "    titles += [\n",
        "         f\"{key}: S-role\",\n",
        "         f\"{key}: A-role\",\n",
        "         f\"{key}: O-role\"\n",
        "    ]\n",
        "\n",
        "fig = make_subplots(rows=36, cols=3, subplot_titles=titles)\n",
        "\n",
        "cnt = 1\n",
        "\n",
        "for language in pathConllu:\n",
        "    s_roles, a_roles, o_roles = distanceCount(pathConllu[language])\n",
        "\n",
        "    fig.add_trace(\n",
        "        go.Bar(\n",
        "            x=sorted(set(s_roles)),\n",
        "            y=[s_roles.count(value) for value in sorted(set(s_roles))],\n",
        "                showlegend=False,\n",
        "        ),\n",
        "        row=cnt,\n",
        "        col=1\n",
        "    )\n",
        "\n",
        "    fig.add_trace(\n",
        "        go.Bar(\n",
        "            x=sorted(set(a_roles)),\n",
        "            y=[a_roles.count(value) for value in sorted(set(a_roles))],\n",
        "                showlegend=False,\n",
        "        ),\n",
        "        row=cnt,\n",
        "        col=2\n",
        "    )\n",
        "\n",
        "    fig.add_trace(\n",
        "        go.Bar(\n",
        "            x=sorted(set(o_roles)),\n",
        "            y=[o_roles.count(value) for value in sorted(set(o_roles))],\n",
        "                showlegend=False,\n",
        "        ),\n",
        "        row=cnt,\n",
        "        col=3\n",
        "    )\n",
        "\n",
        "    cnt += 1\n",
        "\n",
        "fig.update_layout(\n",
        "    height=6000,\n",
        "    width=800,\n",
        "    font_family=\"Brill\",\n",
        "    font_color=\"black\",\n",
        "    title_font_family=\"Brill\",\n",
        "    legend_title_text=\"Role\",\n",
        "    template=\"ggplot2\",\n",
        "    title_text=\"The distances between S, A and O-roles and their heads\"\n",
        ")\n",
        "\n",
        "# pio.write_image(fig, \"Figures/The distances between S, A and O-roles and their heads.png\",scale=6, width=800, height=6000)\n",
        "\n",
        "fig.show()\n"
      ]
    }
  ],
  "metadata": {
    "colab": {
      "provenance": [],
      "toc_visible": true
    },
    "kernelspec": {
      "display_name": "Python 3",
      "name": "python3"
    },
    "language_info": {
      "name": "python"
    }
  },
  "nbformat": 4,
  "nbformat_minor": 0
}
